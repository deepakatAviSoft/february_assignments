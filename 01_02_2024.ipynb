{
  "nbformat": 4,
  "nbformat_minor": 0,
  "metadata": {
    "colab": {
      "provenance": [],
      "authorship_tag": "ABX9TyMCYm+ua9CthxdoRXp2AKlY",
      "include_colab_link": true
    },
    "kernelspec": {
      "name": "python3",
      "display_name": "Python 3"
    },
    "language_info": {
      "name": "python"
    }
  },
  "cells": [
    {
      "cell_type": "markdown",
      "metadata": {
        "id": "view-in-github",
        "colab_type": "text"
      },
      "source": [
        "<a href=\"https://colab.research.google.com/github/deepakatAviSoft/february_assignments/blob/main/01_02_2024.ipynb\" target=\"_parent\"><img src=\"https://colab.research.google.com/assets/colab-badge.svg\" alt=\"Open In Colab\"/></a>"
      ]
    },
    {
      "cell_type": "markdown",
      "source": [
        "###1. Similar Strings\n",
        "\n",
        "\n",
        "**Problem statement:**\n",
        "\n",
        "You are given two strings, ‘A’ and ‘B’ each of length ‘N’. Your task is to print 1 if ‘A’ is similar to ‘B’.\n",
        "\n",
        "**Note:**\n",
        "\n",
        "String ‘A’ is said to be similar to string ‘B’ if and only if\n",
        "1. ‘A’ is equal to ‘B’.\n",
        "2. Divide both ‘A’ and ‘B’ into two – two strings ‘A1’, ‘A2’ , ‘B1’ and ‘B2’ such that both of them ('A1' and 'A2') have the same size. Then at least one of the following must hold true:\n",
        "   a. ‘A1’ is similar to ‘B1’ and ‘A2’ is similar to ‘B2’.\n",
        "   b. ‘A1’ is similar to ‘B2’ and ‘A2’ is similar to ‘B1’.\n",
        "\n",
        "**Sample Input 1:**\n",
        "```\n",
        "2\n",
        "aa aa\n",
        "ab ba\n",
        "```\n",
        "**Sample Output 1:**\n",
        "```\n",
        "1\n",
        "1\n",
        "```\n",
        "**Explanation Of Sample Input 1:**\n",
        "\n",
        "*Test Case 1:*  \n",
        "Given A = “aa” and B = “aa”\n",
        "Here A and B are equal. So A is similar to B."
      ],
      "metadata": {
        "id": "FQyr24COhW0a"
      }
    },
    {
      "cell_type": "code",
      "source": [
        "def customSort(s):\n",
        "    return ''.join(sorted(s))\n",
        "\n",
        "def similarStrings(str1, str2):\n",
        "    n = len(str1)\n",
        "    str1_sorted = customSort(str1)\n",
        "    str2_sorted = customSort(str2)\n",
        "\n",
        "    for i in range(n):\n",
        "        if str1_sorted[i] != str2_sorted[i]:\n",
        "            return False\n",
        "\n",
        "    return True"
      ],
      "metadata": {
        "id": "iSAxqZj1RuOp"
      },
      "execution_count": 8,
      "outputs": []
    },
    {
      "cell_type": "code",
      "source": [
        "str1,str2 = \"ab\", \"ba\"\n",
        "similarStrings(str1, str2)"
      ],
      "metadata": {
        "colab": {
          "base_uri": "https://localhost:8080/"
        },
        "id": "OFmChwQ-R4a_",
        "outputId": "cf911e64-640c-40b4-83c5-5fc4dedd95cc"
      },
      "execution_count": 9,
      "outputs": [
        {
          "output_type": "execute_result",
          "data": {
            "text/plain": [
              "True"
            ]
          },
          "metadata": {},
          "execution_count": 9
        }
      ]
    },
    {
      "cell_type": "markdown",
      "source": [
        "###2. Distinct Substrings\n",
        "\n",
        "**Problem statement:**\n",
        "\n",
        "You are given a string 'S' of length 'N' consisting of lowercase English letters. Your goal is to have all substrings of the string 'S' be distinct. You are allowed to change characters at some positions to some other lowercase English letters.\n",
        "\n",
        "Find the minimum number of changes required to make all the substrings of the string distinct or return -1 if you can't make it.\n",
        "\n",
        "A substring is a contiguous subsegment of a string. For example, \"acab\" is a substring of \"abacaba\" (it starts in position 3 and ends in position 6), but \"aa\" or \"d\" aren't substrings of this string.\n",
        "\n",
        "**Hint:**\n",
        "Think about substrings of length one.\n",
        "For Example:  \n",
        "Let 'N' = 3, 'S' = \"aac\".  \n",
        "You can change characters at index 2 to some other character (1-based indexing).\n",
        "Like 'S' = \"abc\".\n",
        "All substrings of 'S' are \"a\", \"b\", \"c\", \"ab\", \"bc\", \"abc\", all of which are distinct.\n",
        "So the answer is 1.\n",
        "\n",
        "**Sample Input 1:**\n",
        "```\n",
        "2\n",
        "3\n",
        "abc\n",
        "4\n",
        "xxyz\n",
        "```\n",
        "**Sample Output 1:**\n",
        "```\n",
        "0\n",
        "1\n",
        "```\n",
        "**Explanation of Sample Input 1:**\n",
        "\n",
        "*First test case:*  \n",
        "No changes are required.  \n",
        "So the answer is 0.\n",
        "\n",
        "*Second test case:*  \n",
        "You can change the character at index 1 to some other character (1-based indexing).\n",
        "Like 'S'=\"bxyz\".\n",
        "So the answer is 1."
      ],
      "metadata": {
        "id": "VDIycaIXiC3T"
      }
    },
    {
      "cell_type": "code",
      "source": [
        "def distinctSubstring(s):\n",
        "\n",
        "  if len(s) > 26:\n",
        "    return -1\n",
        "  bucket = []\n",
        "  count = 0\n",
        "  for char in s:\n",
        "    if char not in bucket:\n",
        "      bucket.append(char)\n",
        "    else:\n",
        "      count += 1\n",
        "  return count"
      ],
      "metadata": {
        "id": "k-XSHFidjNDJ"
      },
      "execution_count": 12,
      "outputs": []
    },
    {
      "cell_type": "code",
      "source": [
        "#s = \"abc\"\n",
        "s = input(\"Enter the String: \")\n",
        "ans = distinctSubstring(s)\n",
        "ans"
      ],
      "metadata": {
        "colab": {
          "base_uri": "https://localhost:8080/"
        },
        "id": "Vwrum-m4auZZ",
        "outputId": "cf5295e0-76c3-4ae7-b327-7b4d95a82092"
      },
      "execution_count": 14,
      "outputs": [
        {
          "name": "stdout",
          "output_type": "stream",
          "text": [
            "Enter the String: hfjsdjfsfs\n"
          ]
        },
        {
          "output_type": "execute_result",
          "data": {
            "text/plain": [
              "5"
            ]
          },
          "metadata": {},
          "execution_count": 14
        }
      ]
    },
    {
      "cell_type": "markdown",
      "source": [
        "###3. Possible Balanced Strings\n",
        "\n",
        "**Problem statement:**\n",
        "\n",
        "Avisoft has been given a string S, consisting of only the '(' or ')' parenthesis. The string is not balanced, and to make the string balanced, he can remove one or more parentheses. He needs to print all possible balanced strings that can be formed from the given string by removing the minimum number of parentheses.\n",
        "\n",
        "**Note:**\n",
        "\n",
        "- Print only those distinct strings that can be formed by removing the minimum number of parentheses.\n",
        "- If the string is already balanced, return the original string.\n",
        "\n",
        "**For example:**\n",
        "\n",
        "Given string: `(()()()`\n",
        "\n",
        "Expected strings are:\n",
        "\n",
        "[ `(()())`, `(())()`, `()()()` ]\n",
        "\n",
        "**Sample Input 1:**\n",
        "```\n",
        "1\n",
        "(()()()\n",
        "```\n",
        "**Sample Output 1:**\n",
        "```\n",
        "3\n",
        "(()())\n",
        "(())()\n",
        "()()()\n",
        "```\n",
        "**Explanation Of Sample Input 1:**\n",
        "\n",
        "*Test case 1:*  \n",
        "For the first test case of the sample output, three different strings can be created by removing one extra parenthesis."
      ],
      "metadata": {
        "id": "N3YZOhXwigP0"
      }
    },
    {
      "cell_type": "code",
      "source": [],
      "metadata": {
        "id": "4qL4ZMvyjNre"
      },
      "execution_count": null,
      "outputs": []
    },
    {
      "cell_type": "markdown",
      "source": [
        "###4. Multiply Strings\n",
        "\n",
        "**Problem statement:**\n",
        "\n",
        "You are given two big numbers ‘A’ and ‘B’ as strings. Your task is to find the product of both the numbers.\n",
        "\n",
        "**Note:**\n",
        "\n",
        "- There are no leading zeros in both the strings, except the number 0 itself.\n",
        "- Do not use any built-in Big Integer Library.\n",
        "\n",
        "**For Example:**\n",
        "\n",
        "If, A = 123, and B = 456. So the product of both numbers will be 56088.\n",
        "\n",
        "**Sample Input 1:**\n",
        "```\n",
        "2\n",
        "17281\n",
        "91276\n",
        "123\n",
        "456\n",
        "```\n",
        "**Sample Output 1:**\n",
        "```\n",
        "1577340556\n",
        "56088\n",
        "```\n",
        "**Explanation for Sample 1:**\n",
        "\n",
        "*For the first test case:*  \n",
        "A=17281, and B=91276  \n",
        "The product of both numbers is 1577340556.\n",
        "\n",
        "*For the second test case:*  \n",
        "A=123, B=456  \n",
        "The product of both numbers is 56088."
      ],
      "metadata": {
        "id": "RBAEICoxiwU5"
      }
    },
    {
      "cell_type": "code",
      "source": [
        "def multiply_string(a, b):\n",
        "  a = int(a)\n",
        "  b = int(b)\n",
        "  return a*b"
      ],
      "metadata": {
        "id": "7rYj7J2GjOPZ"
      },
      "execution_count": 15,
      "outputs": []
    },
    {
      "cell_type": "code",
      "source": [
        "a = 17281\n",
        "b = 91276\n",
        "ans = multiply_string(a, b)\n",
        "ans"
      ],
      "metadata": {
        "colab": {
          "base_uri": "https://localhost:8080/"
        },
        "id": "abdo9VxQlCqS",
        "outputId": "4d8cb615-fe0e-45fc-e0d3-ebb61af21284"
      },
      "execution_count": 17,
      "outputs": [
        {
          "output_type": "execute_result",
          "data": {
            "text/plain": [
              "1577340556"
            ]
          },
          "metadata": {},
          "execution_count": 17
        }
      ]
    },
    {
      "cell_type": "markdown",
      "source": [
        "###5. Total Strings\n",
        "\n",
        "**Problem statement:**\n",
        "\n",
        "You are given a positive integer 'N'. Your task is to find the number of strings of length ‘N’ that can be formed using only the characters ‘a’, ‘b’, and ‘c’. The strings formed should be such that the number of ‘b’ and ‘c’ in the string is at most 1 and 2, respectively.\n",
        "\n",
        "**Example:**\n",
        "\n",
        "Let’s say N = 2. The strings of length 2, which satisfy the given constraints are: “aa”, “ab”, “ac”, “ba”, “bc”, “ca”, “cb”, “cc”. Hence, the output is 8.\n",
        "\n",
        "**Sample Input 1:**\n",
        "```\n",
        "2\n",
        "3\n",
        "```\n",
        "**Sample Output 1:**\n",
        "```\n",
        "8\n",
        "19\n",
        "```\n",
        "**Explanation 1:**\n",
        "\n",
        "*For the first test case:*  \n",
        "Refer to the example explained before.\n",
        "\n",
        "*For the second test case:*  \n",
        "N = 3. The strings of length 3, which satisfy the given constraints are: “aaa”, “aab”, “aac”, “aba”, “abc”, “aca”, “acb”, “acc”, and so on. There are a total of 19 possible strings."
      ],
      "metadata": {
        "id": "KTLBpfhejFoO"
      }
    },
    {
      "cell_type": "code",
      "source": [],
      "metadata": {
        "id": "uN5Rz9XJjGZs"
      },
      "execution_count": null,
      "outputs": []
    }
  ]
}