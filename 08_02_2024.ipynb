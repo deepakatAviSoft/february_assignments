{
  "nbformat": 4,
  "nbformat_minor": 0,
  "metadata": {
    "colab": {
      "provenance": [],
      "authorship_tag": "ABX9TyNRMYg0aCfbj03LaNUTmUQ1",
      "include_colab_link": true
    },
    "kernelspec": {
      "name": "python3",
      "display_name": "Python 3"
    },
    "language_info": {
      "name": "python"
    }
  },
  "cells": [
    {
      "cell_type": "markdown",
      "metadata": {
        "id": "view-in-github",
        "colab_type": "text"
      },
      "source": [
        "<a href=\"https://colab.research.google.com/github/deepakatAviSoft/february_assignments/blob/main/08_02_2024.ipynb\" target=\"_parent\"><img src=\"https://colab.research.google.com/assets/colab-badge.svg\" alt=\"Open In Colab\"/></a>"
      ]
    },
    {
      "cell_type": "markdown",
      "source": [
        "<b><h1>Topic : Exception Handling</h1></b>"
      ],
      "metadata": {
        "id": "woEnJYQrCnhz"
      }
    },
    {
      "cell_type": "markdown",
      "source": [
        "**1.** Write a Python function that takes two parameters, numerator and denominator, and returns the result of the division. However, handle the case where the denominator is zero by using a try-except block. In the except block, print an error message and return None"
      ],
      "metadata": {
        "id": "UzX1mbQ1DO0L"
      }
    },
    {
      "cell_type": "code",
      "source": [
        "def divide(numerator, denominator):\n",
        "  try:\n",
        "    result = numerator / denominator\n",
        "    return result\n",
        "  except ZeroDivisionError:\n",
        "    print(\"Error: Division by Zero.\")"
      ],
      "metadata": {
        "id": "LBozQBxMF988"
      },
      "execution_count": 1,
      "outputs": []
    },
    {
      "cell_type": "code",
      "source": [
        "x = int(input(\"Enter the value of numerator: \"))\n",
        "y = int(input(\"Enter the value of denominator: \"))\n",
        "\n",
        "divide(x, y)"
      ],
      "metadata": {
        "colab": {
          "base_uri": "https://localhost:8080/"
        },
        "id": "FZo_AUWLGo5K",
        "outputId": "33d9a71c-e225-4a2d-8bcc-bedc4f8afada"
      },
      "execution_count": 3,
      "outputs": [
        {
          "output_type": "stream",
          "name": "stdout",
          "text": [
            "Enter the value of numerator: 0\n",
            "Enter the value of denominator: 0\n",
            "Error: Division by Zero.\n"
          ]
        }
      ]
    },
    {
      "cell_type": "markdown",
      "source": [
        "**2.** Create a function that reads the content of a file. Use a try-except block to handle the case where the file does not exist. In the except block, print an error message and return an empty string."
      ],
      "metadata": {
        "id": "0RMbW1CuDXNg"
      }
    },
    {
      "cell_type": "code",
      "source": [
        "def read_file_content(filename):\n",
        "  try:\n",
        "    with open(filename, 'r') as file:\n",
        "      content = file.read()\n",
        "    return content\n",
        "  except FileNotFoundError:\n",
        "    print(\"Error: File not Found.\")\n",
        "    return \"\""
      ],
      "metadata": {
        "id": "qyBK4n-lH-n_"
      },
      "execution_count": 4,
      "outputs": []
    },
    {
      "cell_type": "code",
      "source": [
        "file_content = read_file_content(\"example.txt\")\n",
        "print(file_content)"
      ],
      "metadata": {
        "colab": {
          "base_uri": "https://localhost:8080/"
        },
        "id": "aRGZtAdhI_8P",
        "outputId": "d702c421-8372-4cf6-8b4d-591d36a980ee"
      },
      "execution_count": 5,
      "outputs": [
        {
          "output_type": "stream",
          "name": "stdout",
          "text": [
            "Error: File not Found.\n",
            "\n"
          ]
        }
      ]
    },
    {
      "cell_type": "markdown",
      "source": [
        "\n",
        "**3.** Define a custom exception class called InvalidInputError. Write a function that takes user input (an integer) and raises this custom exception if the input is not a positive integer. Use a try-except block to catch this custom exception and print an error message."
      ],
      "metadata": {
        "id": "StEsn4fODqmj"
      }
    },
    {
      "cell_type": "code",
      "source": [
        "class InvalidInputError(Exception):\n",
        "  pass\n",
        "\n",
        "  def get_positive_integer():\n",
        "    try:\n",
        "      user_input = int(input(\"Enter a positive integer: \"))\n",
        "      if user_input <= 0:\n",
        "        raise InvalidInputError(\"Input must be a positive integer.\")\n",
        "      return user_input\n",
        "    except ValueError:\n",
        "      print(\"Error: Invalid input. Please enter a valid integer.\")\n",
        "    except InvalidInputError as e:\n",
        "      print(f\"Error: {e}\")"
      ],
      "metadata": {
        "id": "aI3TUDuvb9hq"
      },
      "execution_count": 13,
      "outputs": []
    },
    {
      "cell_type": "code",
      "source": [
        "try:\n",
        "  value = get_positive_integer()\n",
        "  print(\"Input:\", value)\n",
        "except InvalidInputError as e:\n",
        "  print(f\"Error: {e}\")"
      ],
      "metadata": {
        "colab": {
          "base_uri": "https://localhost:8080/"
        },
        "id": "BA30W3e2iFyo",
        "outputId": "2be017ef-ad56-4150-aa8b-95834c8047ed"
      },
      "execution_count": 15,
      "outputs": [
        {
          "output_type": "stream",
          "name": "stdout",
          "text": [
            "Enter a positive integer: 1\n",
            "Input: 1\n"
          ]
        }
      ]
    },
    {
      "cell_type": "markdown",
      "source": [
        "**4.** Create a function that validates a user's password. The password must satisfy the following conditions:\n",
        "\n",
        "At least 8 characters long Contains at least one uppercase letter Contains at least one digit"
      ],
      "metadata": {
        "id": "6h4NmDTSDz7a"
      }
    },
    {
      "cell_type": "code",
      "source": [
        "class InvalidPasswordError(Exception):\n",
        "    pass\n",
        "\n",
        "def validate_password(password):\n",
        "    try:\n",
        "        if len(password) < 8:\n",
        "            raise InvalidPasswordError(\"Password must be at least 8 characters long.\")\n",
        "        if not any(char.isupper() for char in password):\n",
        "            raise InvalidPasswordError(\"Password must contain at least one uppercase letter.\")\n",
        "        if not any(char.isdigit() for char in password):\n",
        "            raise InvalidPasswordError(\"Password must contain at least one digit.\")\n",
        "        return True\n",
        "    except InvalidPasswordError as e:\n",
        "        print(f\"Error: {e}\")\n",
        "        return False\n",
        "\n",
        "# Example usage:\n",
        "password = input(\"Enter your password: \")\n",
        "if validate_password(password):\n",
        "    print(\"Password is valid.\")\n",
        "else:\n",
        "    print(\"Password is invalid.\")\n"
      ],
      "metadata": {
        "colab": {
          "base_uri": "https://localhost:8080/"
        },
        "id": "BfkKHkXoPvle",
        "outputId": "1af03cb0-888b-4ae4-80b1-5f016c4c546e"
      },
      "execution_count": 23,
      "outputs": [
        {
          "output_type": "stream",
          "name": "stdout",
          "text": [
            "Enter your password: Hhdhdhs@1\n",
            "Password is valid.\n"
          ]
        }
      ]
    },
    {
      "cell_type": "markdown",
      "source": [
        "**5.** URL Parsing Create a function that parses a URL and extracts the protocol (http or https), domain, and path. Define a custom exception InvalidURLError and raise it if the URL does not start with \"http://\" or \"https://\"."
      ],
      "metadata": {
        "id": "60Fbb6KkDd1G"
      }
    },
    {
      "cell_type": "code",
      "source": [
        "class InvalidURLError(Exception):\n",
        "  pass\n",
        "\n",
        "  def parse_url(url):\n",
        "    protocols = [\"http://\", \"https://\"]\n",
        "\n",
        "    for protocol in protocols:\n",
        "      if url.startswith(protocol):\n",
        "        domian_and_path = url[len(protocol):]\n",
        "        domain = domain_and_path.split('/')[0]\n",
        "        path = '/'.join(domain_and_path.split('/')[1:])\n",
        "        return protocol[:-3], domain, path\n",
        "\n",
        "    raise InvalidURLError(\"Invalid URL format. URL must start with 'http://' or 'https://'.\")"
      ],
      "metadata": {
        "id": "gBI3Ci6akWUY"
      },
      "execution_count": 18,
      "outputs": []
    },
    {
      "cell_type": "code",
      "source": [
        "try:\n",
        "    url = input(\"Enter a URL: \")\n",
        "    protocol, domain, path = parse_url(url)\n",
        "    print(\"Protocol:\", protocol)\n",
        "    print(\"Domain:\", domain)\n",
        "    print(\"Path:\", path)\n",
        "except InvalidURLError as e:\n",
        "    print(\"Error:\", e)"
      ],
      "metadata": {
        "colab": {
          "base_uri": "https://localhost:8080/"
        },
        "id": "kiHoDD1-kSoa",
        "outputId": "0f6d4f25-ae09-44ea-9acc-4516f2bc29ee"
      },
      "execution_count": 21,
      "outputs": [
        {
          "output_type": "stream",
          "name": "stdout",
          "text": [
            "Enter a URL: http://www.google.com/home\n",
            "Protocol: http\n",
            "Domain: www.google.com\n",
            "Path: home\n"
          ]
        }
      ]
    },
    {
      "cell_type": "markdown",
      "source": [
        "**6.** Custom Assertion Write a function that accepts a number as input and uses a custom exception AssertionError to raise an error if the number is negative. Use an assert statement to check this condition."
      ],
      "metadata": {
        "id": "zxxmQNPlEG9s"
      }
    },
    {
      "cell_type": "code",
      "source": [
        "class NegativeNumberError(Exception):\n",
        "    pass\n",
        "\n",
        "def process_number(number):\n",
        "    if number < 0:\n",
        "        raise NegativeNumberError(\"Number must be non-negative\")\n",
        "    # Continue processing the number here if it passes the assertion\n",
        "    print(\"Number is non-negative:\", number)\n",
        "\n",
        "# Example usage:\n",
        "try:\n",
        "    num = int(input(\"Enter a number: \"))\n",
        "    process_number(num)\n",
        "except NegativeNumberError as e:\n",
        "    print(\"Error:\", e)\n",
        "except ValueError:\n",
        "    print(\"Error: Please enter a valid number.\")\n",
        "\n"
      ],
      "metadata": {
        "colab": {
          "base_uri": "https://localhost:8080/"
        },
        "id": "F4q90GL3RvmE",
        "outputId": "a3431497-acd1-4160-d7d8-210b9f4ad4cf"
      },
      "execution_count": 10,
      "outputs": [
        {
          "output_type": "stream",
          "name": "stdout",
          "text": [
            "Enter a number: -2\n",
            "Error: Number must be non-negative\n"
          ]
        }
      ]
    }
  ]
}