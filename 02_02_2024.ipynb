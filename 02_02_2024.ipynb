{
  "nbformat": 4,
  "nbformat_minor": 0,
  "metadata": {
    "colab": {
      "provenance": [],
      "authorship_tag": "ABX9TyMxKqG+qESbf+ZSTKOwhAX0",
      "include_colab_link": true
    },
    "kernelspec": {
      "name": "python3",
      "display_name": "Python 3"
    },
    "language_info": {
      "name": "python"
    }
  },
  "cells": [
    {
      "cell_type": "markdown",
      "metadata": {
        "id": "view-in-github",
        "colab_type": "text"
      },
      "source": [
        "<a href=\"https://colab.research.google.com/github/deepakatAviSoft/february_assignments/blob/main/02_02_2024.ipynb\" target=\"_parent\"><img src=\"https://colab.research.google.com/assets/colab-badge.svg\" alt=\"Open In Colab\"/></a>"
      ]
    },
    {
      "cell_type": "markdown",
      "source": [
        "**1.** Write a Python program to create a class and display the namespace of that class."
      ],
      "metadata": {
        "id": "YxxGaXT5jSzk"
      }
    },
    {
      "cell_type": "code",
      "source": [
        "class MyClass:\n",
        "    pass\n",
        "\n",
        "print(MyClass.__dict__)\n"
      ],
      "metadata": {
        "colab": {
          "base_uri": "https://localhost:8080/"
        },
        "id": "VuoaTZBjjVqm",
        "outputId": "7232d56b-f668-4823-e279-f54a70e2b356"
      },
      "execution_count": 3,
      "outputs": [
        {
          "output_type": "stream",
          "name": "stdout",
          "text": [
            "{'__module__': '__main__', '__dict__': <attribute '__dict__' of 'MyClass' objects>, '__weakref__': <attribute '__weakref__' of 'MyClass' objects>, '__doc__': None}\n"
          ]
        }
      ]
    },
    {
      "cell_type": "markdown",
      "source": [
        "**2.** Write a Python program to create an instance of a specified class and display the namespace of the said instance."
      ],
      "metadata": {
        "id": "i8iLw0wYlSHK"
      }
    },
    {
      "cell_type": "code",
      "source": [
        "class ExampleClass:\n",
        "    def __init__(self, name, age):\n",
        "        self.name_x = name\n",
        "        self.age_x = age\n",
        "\n",
        "\n",
        "example_instance_1 = ExampleClass(\"Deepak Sharma\", 24)\n",
        "example_instance_2 = ExampleClass(\"Varun Deep Singh\", 24)\n",
        "\n",
        "\n",
        "instance_namespace_1 = example_instance_1.__dict__\n",
        "instance_namespace_2 = example_instance_2.__dict__\n",
        "\n",
        "\n",
        "\n",
        "print(\"Namespace of the instance:\")\n",
        "print(instance_namespace_1)\n",
        "print(\"Namespace of the instance:\")\n",
        "print(instance_namespace_2)"
      ],
      "metadata": {
        "colab": {
          "base_uri": "https://localhost:8080/"
        },
        "id": "WHOnFMuBlT_t",
        "outputId": "76719668-be07-4ff2-81e1-caac1e887630"
      },
      "execution_count": 8,
      "outputs": [
        {
          "output_type": "stream",
          "name": "stdout",
          "text": [
            "Namespace of the instance:\n",
            "{'name_x': 'Deepak Sharma', 'age_x': 24}\n",
            "Namespace of the instance:\n",
            "{'name_x': 'Varun Deep Singh', 'age_x': 24}\n"
          ]
        }
      ]
    },
    {
      "cell_type": "markdown",
      "source": [
        "**3.** Write a Python program to create two empty classes, Student and Marks. Now create some instances and check whether they are instances of the said classes or not. Also, check whether the said classes are subclasses of the built-in object class or not.\n"
      ],
      "metadata": {
        "id": "W974sj1xm0ro"
      }
    },
    {
      "cell_type": "code",
      "source": [
        "class Student:\n",
        "    pass\n",
        "\n",
        "class Marks:\n",
        "    pass\n",
        "\n",
        "\n",
        "student_instance = Student()\n",
        "marks_instance = Marks()\n",
        "\n",
        "\n",
        "is_student_instance = isinstance(student_instance, Student)\n",
        "is_marks_instance = isinstance(marks_instance, Marks)\n",
        "\n",
        "\n",
        "is_student_subclass = issubclass(Student, object)\n",
        "is_marks_subclass = issubclass(Marks, object)\n",
        "\n",
        "\n",
        "print(\"Is student_instance an instance of Student? \", is_student_instance)\n",
        "print(\"Is marks_instance an instance of Marks? \", is_marks_instance)\n",
        "print(\"\\nIs Student a subclass of object? \", is_student_subclass)\n",
        "print(\"Is Marks a subclass of object? \", is_marks_subclass)\n"
      ],
      "metadata": {
        "colab": {
          "base_uri": "https://localhost:8080/"
        },
        "id": "k7rG0kuanDSg",
        "outputId": "c85cbb43-11a2-400c-97bb-2ccc332414b4"
      },
      "execution_count": 10,
      "outputs": [
        {
          "output_type": "stream",
          "name": "stdout",
          "text": [
            "Is student_instance an instance of Student?  True\n",
            "Is marks_instance an instance of Marks?  True\n",
            "\n",
            "Is Student a subclass of object?  True\n",
            "Is Marks a subclass of object?  True\n"
          ]
        }
      ]
    },
    {
      "cell_type": "code",
      "source": [],
      "metadata": {
        "id": "Jdf3jXx0niX4"
      },
      "execution_count": null,
      "outputs": []
    }
  ]
}