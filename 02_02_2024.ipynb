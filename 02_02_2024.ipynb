{
  "nbformat": 4,
  "nbformat_minor": 0,
  "metadata": {
    "colab": {
      "provenance": [],
      "authorship_tag": "ABX9TyPJC29Ikh90sJt3smA/vmoj",
      "include_colab_link": true
    },
    "kernelspec": {
      "name": "python3",
      "display_name": "Python 3"
    },
    "language_info": {
      "name": "python"
    }
  },
  "cells": [
    {
      "cell_type": "markdown",
      "metadata": {
        "id": "view-in-github",
        "colab_type": "text"
      },
      "source": [
        "<a href=\"https://colab.research.google.com/github/deepakatAviSoft/february_assignments/blob/main/02_02_2024.ipynb\" target=\"_parent\"><img src=\"https://colab.research.google.com/assets/colab-badge.svg\" alt=\"Open In Colab\"/></a>"
      ]
    },
    {
      "cell_type": "markdown",
      "source": [
        "**1.** Write a Python program to create a class and display the namespace of that class."
      ],
      "metadata": {
        "id": "YxxGaXT5jSzk"
      }
    },
    {
      "cell_type": "code",
      "source": [
        "class MyClass:\n",
        "    pass\n",
        "\n",
        "print(MyClass.__dict__)\n"
      ],
      "metadata": {
        "colab": {
          "base_uri": "https://localhost:8080/"
        },
        "id": "VuoaTZBjjVqm",
        "outputId": "7232d56b-f668-4823-e279-f54a70e2b356"
      },
      "execution_count": 3,
      "outputs": [
        {
          "output_type": "stream",
          "name": "stdout",
          "text": [
            "{'__module__': '__main__', '__dict__': <attribute '__dict__' of 'MyClass' objects>, '__weakref__': <attribute '__weakref__' of 'MyClass' objects>, '__doc__': None}\n"
          ]
        }
      ]
    },
    {
      "cell_type": "markdown",
      "source": [
        "**2.** Write a Python program to create an instance of a specified class and display the namespace of the said instance."
      ],
      "metadata": {
        "id": "i8iLw0wYlSHK"
      }
    },
    {
      "cell_type": "code",
      "source": [
        "class ExampleClass:\n",
        "    def __init__(self, name, age):\n",
        "        self.name_x = name\n",
        "        self.age_x = age\n",
        "\n",
        "\n",
        "example_instance_1 = ExampleClass(\"Deepak Sharma\", 24)\n",
        "example_instance_2 = ExampleClass(\"Varun Deep Singh\", 24)\n",
        "\n",
        "\n",
        "instance_namespace_1 = example_instance_1.__dict__\n",
        "instance_namespace_2 = example_instance_2.__dict__\n",
        "\n",
        "\n",
        "\n",
        "print(\"Namespace of the instance:\")\n",
        "print(instance_namespace_1)\n",
        "print(\"Namespace of the instance:\")\n",
        "print(instance_namespace_2)"
      ],
      "metadata": {
        "colab": {
          "base_uri": "https://localhost:8080/"
        },
        "id": "WHOnFMuBlT_t",
        "outputId": "76719668-be07-4ff2-81e1-caac1e887630"
      },
      "execution_count": 8,
      "outputs": [
        {
          "output_type": "stream",
          "name": "stdout",
          "text": [
            "Namespace of the instance:\n",
            "{'name_x': 'Deepak Sharma', 'age_x': 24}\n",
            "Namespace of the instance:\n",
            "{'name_x': 'Varun Deep Singh', 'age_x': 24}\n"
          ]
        }
      ]
    },
    {
      "cell_type": "markdown",
      "source": [
        "**3.** Write a Python program to create two empty classes, Student and Marks. Now create some instances and check whether they are instances of the said classes or not. Also, check whether the said classes are subclasses of the built-in object class or not.\n"
      ],
      "metadata": {
        "id": "W974sj1xm0ro"
      }
    },
    {
      "cell_type": "code",
      "source": [
        "class Student:\n",
        "    pass\n",
        "\n",
        "class Marks:\n",
        "    pass\n",
        "\n",
        "\n",
        "student_instance = Student()\n",
        "marks_instance = Marks()\n",
        "\n",
        "\n",
        "is_student_instance = isinstance(student_instance, Student)\n",
        "is_marks_instance = isinstance(marks_instance, Marks)\n",
        "\n",
        "\n",
        "is_student_subclass = issubclass(Student, object)\n",
        "is_marks_subclass = issubclass(Marks, object)\n",
        "\n",
        "\n",
        "print(\"Is student_instance an instance of Student? \", is_student_instance)\n",
        "print(\"Is marks_instance an instance of Marks? \", is_marks_instance)\n",
        "print(\"\\nIs Student a subclass of object? \", is_student_subclass)\n",
        "print(\"Is Marks a subclass of object? \", is_marks_subclass)\n"
      ],
      "metadata": {
        "colab": {
          "base_uri": "https://localhost:8080/"
        },
        "id": "k7rG0kuanDSg",
        "outputId": "c85cbb43-11a2-400c-97bb-2ccc332414b4"
      },
      "execution_count": 10,
      "outputs": [
        {
          "output_type": "stream",
          "name": "stdout",
          "text": [
            "Is student_instance an instance of Student?  True\n",
            "Is marks_instance an instance of Marks?  True\n",
            "\n",
            "Is Student a subclass of object?  True\n",
            "Is Marks a subclass of object?  True\n"
          ]
        }
      ]
    },
    {
      "cell_type": "markdown",
      "source": [
        "**4.** Write a Python class named Student with two attributes student_id, student_name. Add a new attribute student_class and display the entire attribute and the values of the class. Now remove the student_name attribute and display the entire attribute with values.\n"
      ],
      "metadata": {
        "id": "Ftw8uKzGsR-E"
      }
    },
    {
      "cell_type": "code",
      "source": [
        "class Student:\n",
        "    def __init__(self, student_id, student_name):\n",
        "        self.student_id = student_id\n",
        "        self.student_name = student_name\n",
        "\n",
        "\n",
        "student_instance = Student(student_id=1, student_name=\"Deepak Sharma\")\n",
        "\n",
        "\n",
        "print(\"Initial attributes and values:\")\n",
        "print(student_instance.__dict__)\n",
        "\n",
        "\n",
        "student_instance.student_class = \"Python\"\n",
        "\n",
        "\n",
        "print(\"\\nAttributes and values after adding 'student_class':\")\n",
        "print(student_instance.__dict__)\n",
        "\n",
        "\n",
        "del student_instance.student_name #deleting\n",
        "\n",
        "\n",
        "print(\"\\nAttributes and values after removing 'student_name':\")\n",
        "print(student_instance.__dict__)\n"
      ],
      "metadata": {
        "colab": {
          "base_uri": "https://localhost:8080/"
        },
        "id": "Jdf3jXx0niX4",
        "outputId": "c6c124a5-f641-4c73-e9ae-f9846fef9a35"
      },
      "execution_count": 12,
      "outputs": [
        {
          "output_type": "stream",
          "name": "stdout",
          "text": [
            "Initial attributes and values:\n",
            "{'student_id': 1, 'student_name': 'Deepak Sharma'}\n",
            "\n",
            "Attributes and values after adding 'student_class':\n",
            "{'student_id': 1, 'student_name': 'Deepak Sharma', 'student_class': 'Python'}\n",
            "\n",
            "Attributes and values after removing 'student_name':\n",
            "{'student_id': 1, 'student_class': 'Python'}\n"
          ]
        }
      ]
    },
    {
      "cell_type": "markdown",
      "source": [
        "**5.** Write a Python class to check the validity of a string of parentheses, '(', ')', '{', '}', '[' and ']. These brackets must be closed in the correct order, for example \"()\" and \"()[]{}\" are valid but \"[)\", \"({[)]\" and \"{{{\" are invalid.\n"
      ],
      "metadata": {
        "id": "EmzqzcPMsmJF"
      }
    },
    {
      "cell_type": "code",
      "source": [
        "class BracketValidator:\n",
        "    def __init__(self):\n",
        "        self.stack = []\n",
        "\n",
        "    def is_valid(self, s):\n",
        "\n",
        "        bracket_mapping = {')': '(', '}': '{', ']': '['}\n",
        "\n",
        "\n",
        "        for char in s:\n",
        "\n",
        "            if char in bracket_mapping:\n",
        "\n",
        "                if self.stack:\n",
        "                  top_element = self.stack.pop()\n",
        "                else:\n",
        "                  top_element = '#'\n",
        "\n",
        "                if bracket_mapping[char] != top_element:\n",
        "                    return False\n",
        "            else:\n",
        "\n",
        "                self.stack.append(char)\n",
        "\n",
        "\n",
        "        return not self.stack #will return true if stack is empty\n",
        "\n",
        "\n",
        "validator = BracketValidator()\n",
        "print(validator.is_valid(\"()\"))\n",
        "print(validator.is_valid(\"()[]{}\"))\n",
        "print(validator.is_valid(\"[)\"))\n",
        "print(validator.is_valid(\"({[)]\"))\n",
        "print(validator.is_valid(\"{{{\"))\n"
      ],
      "metadata": {
        "colab": {
          "base_uri": "https://localhost:8080/"
        },
        "id": "jrS7a3PBs9io",
        "outputId": "d3850d53-0ada-4cc7-ea01-48031c09d0b7"
      },
      "execution_count": 22,
      "outputs": [
        {
          "output_type": "stream",
          "name": "stdout",
          "text": [
            "True\n",
            "True\n",
            "False\n",
            "False\n",
            "False\n"
          ]
        }
      ]
    },
    {
      "cell_type": "markdown",
      "source": [
        "**6.** Write a Python class `Employee` with attributes like `emp_id`, `emp_name`, `emp_salary`, and `emp_department`, and methods like `calculate_emp_salary`, `emp_assign_department`, and `print_employee_details`.\n",
        "\n",
        "Sample Employee Data:\n",
        "- \"ADAMS\", \"E7876\", 50000, \"ACCOUNTING\"\n",
        "- \"JONES\", \"E7499\", 45000, \"RESEARCH\"\n",
        "- \"MARTIN\", \"E7900\", 50000, \"SALES\"\n",
        "- \"SMITH\", \"E7698\", 55000, \"OPERATIONS\"\n",
        "\n",
        "Use 'assign_department' method to change the department of an employee.  \n",
        "Use 'print_employee_details' method to print the details of an employee.  \n",
        "Use 'calculate_emp_salary' method takes two arguments: `salary` and `hours_worked`, which is the number of hours worked by the employee. If the number of hours worked is more than 50, the method computes overtime and adds it to the salary. Overtime is calculated as following formula:\n",
        "```plaintext\n",
        "overtime = hours_worked – 50\n",
        "Overtime amount = (overtime * (salary / 50))\n"
      ],
      "metadata": {
        "id": "HUib4RnS3QBg"
      }
    },
    {
      "cell_type": "code",
      "source": [
        "class Employee:\n",
        "    def __init__(self, emp_name, emp_id, emp_salary, emp_department):\n",
        "        self.emp_name = emp_name\n",
        "        self.emp_id = emp_id\n",
        "        self.emp_salary = emp_salary\n",
        "        self.emp_department = emp_department\n",
        "\n",
        "    def assign_department(self, new_department):\n",
        "        self.emp_department = new_department\n",
        "\n",
        "    def print_employee_details(self):\n",
        "        print(f\"Employee ID: {self.emp_id}\")\n",
        "        print(f\"Employee Name: {self.emp_name}\")\n",
        "        print(f\"Employee Salary: ${self.emp_salary}\")\n",
        "        print(f\"Employee Department: {self.emp_department}\")\n",
        "        print(\"------------------------\")\n",
        "\n",
        "    def calculate_emp_salary(self, hours_worked):\n",
        "        if hours_worked > 50:\n",
        "            overtime = hours_worked - 50\n",
        "            overtime_amount = (overtime * (self.emp_salary / 50))\n",
        "            total_salary = self.emp_salary + overtime_amount\n",
        "        else:\n",
        "            total_salary = self.emp_salary\n",
        "\n",
        "        return total_salary\n",
        "\n",
        "\n",
        "employee1 = Employee(\"ADAMS\", \"E7876\", 50000, \"ACCOUNTING\")\n",
        "employee2 = Employee(\"JONES\", \"E7499\", 45000, \"RESEARCH\")\n",
        "employee3 = Employee(\"MARTIN\", \"E7900\", 50000, \"SALES\")\n",
        "employee4 = Employee(\"SMITH\", \"E7698\", 55000, \"OPERATIONS\")\n",
        "\n",
        "\n",
        "employee1.print_employee_details()\n",
        "\n",
        "\n",
        "employee1.assign_department(\"HR\")\n",
        "employee1.print_employee_details()\n",
        "\n",
        "\n",
        "total_salary_employee2 = employee2.calculate_emp_salary(55)\n",
        "print(f\"Total Salary for {employee2.emp_name}: ${total_salary_employee2}\")\n"
      ],
      "metadata": {
        "colab": {
          "base_uri": "https://localhost:8080/"
        },
        "id": "iIIIsiSM3R3o",
        "outputId": "8ec6ff4a-899f-4d7b-aa37-053d373a83ac"
      },
      "execution_count": 24,
      "outputs": [
        {
          "output_type": "stream",
          "name": "stdout",
          "text": [
            "Employee ID: E7876\n",
            "Employee Name: ADAMS\n",
            "Employee Salary: $50000\n",
            "Employee Department: ACCOUNTING\n",
            "------------------------\n",
            "Employee ID: E7876\n",
            "Employee Name: ADAMS\n",
            "Employee Salary: $50000\n",
            "Employee Department: HR\n",
            "------------------------\n",
            "Total Salary for JONES: $49500.0\n"
          ]
        }
      ]
    },
    {
      "cell_type": "markdown",
      "source": [
        "**7.** Write a Python class `Restaurant` with attributes like `menu_items`, `book_table`, and `customer_orders`, and methods like `add_item_to_menu`, `book_tables`, and `customer_order`.\n",
        "\n",
        "Perform the following tasks now:\n",
        "1. Add items to the menu.\n",
        "2. Make table reservations.\n",
        "3. Take customer orders.\n",
        "4. Print the menu.\n",
        "5. Print table reservations.\n",
        "6. Print customer orders.\n",
        "\n",
        "Note: Use dictionaries and lists to store the data.\n"
      ],
      "metadata": {
        "id": "t3KyDpit5PE5"
      }
    },
    {
      "cell_type": "code",
      "source": [
        "class Restaurant:\n",
        "    def __init__(self):\n",
        "        self.menu_items = {}\n",
        "        self.booked_tables = []\n",
        "        self.customer_orders = {}\n",
        "\n",
        "    def add_item_to_menu(self, item_name, item_price):\n",
        "        self.menu_items[item_name] = item_price\n",
        "\n",
        "    def book_table(self, table_number):\n",
        "        if table_number not in self.booked_tables:\n",
        "            self.booked_tables.append(table_number)\n",
        "            print(f\"Table {table_number} booked successfully.\")\n",
        "        else:\n",
        "            print(f\"Table {table_number} is already booked.\")\n",
        "\n",
        "    def customer_order(self, table_number, order_items):\n",
        "        if table_number in self.booked_tables:\n",
        "            if table_number not in self.customer_orders:\n",
        "                self.customer_orders[table_number] = []\n",
        "            self.customer_orders[table_number].extend(order_items)\n",
        "            print(f\"Order placed successfully for Table {table_number}.\")\n",
        "        else:\n",
        "            print(f\"Table {table_number} is not booked. Please book a table first.\")\n",
        "\n",
        "    def print_menu(self):\n",
        "        print(\"Menu:\")\n",
        "        for item, price in self.menu_items.items():\n",
        "            print(f\"{item}: ${price}\")\n",
        "        print(\"------------------------\")\n",
        "\n",
        "    def print_booked_tables(self):\n",
        "        print(\"Booked Tables:\")\n",
        "        print(self.booked_tables)\n",
        "        print(\"------------------------\")\n",
        "\n",
        "    def print_customer_orders(self):\n",
        "        print(\"Customer Orders:\")\n",
        "        for table, orders in self.customer_orders.items():\n",
        "            print(f\"Table {table}: {orders}\")\n",
        "        print(\"------------------------\")\n",
        "\n",
        "\n",
        "restaurant = Restaurant()\n",
        "\n",
        "\n",
        "restaurant.add_item_to_menu(\"Pizza\", 15)\n",
        "restaurant.add_item_to_menu(\"Burger\", 8)\n",
        "restaurant.add_item_to_menu(\"Pasta\", 12)\n",
        "\n",
        "\n",
        "restaurant.book_table(1)\n",
        "restaurant.book_table(2)\n",
        "restaurant.book_table(1)\n",
        "\n",
        "\n",
        "restaurant.customer_order(1, [\"Pizza\", \"Pasta\"])\n",
        "restaurant.customer_order(2, [\"Burger\"])\n",
        "\n",
        "\n",
        "restaurant.print_menu()\n",
        "restaurant.print_booked_tables()\n",
        "restaurant.print_customer_orders()\n"
      ],
      "metadata": {
        "colab": {
          "base_uri": "https://localhost:8080/"
        },
        "id": "y3izdqSx5RdZ",
        "outputId": "62cfdb55-4b32-4dac-c058-55afef14a9a4"
      },
      "execution_count": 25,
      "outputs": [
        {
          "output_type": "stream",
          "name": "stdout",
          "text": [
            "Table 1 booked successfully.\n",
            "Table 2 booked successfully.\n",
            "Table 1 is already booked.\n",
            "Order placed successfully for Table 1.\n",
            "Order placed successfully for Table 2.\n",
            "Menu:\n",
            "Pizza: $15\n",
            "Burger: $8\n",
            "Pasta: $12\n",
            "------------------------\n",
            "Booked Tables:\n",
            "[1, 2]\n",
            "------------------------\n",
            "Customer Orders:\n",
            "Table 1: ['Pizza', 'Pasta']\n",
            "Table 2: ['Burger']\n",
            "------------------------\n"
          ]
        }
      ]
    },
    {
      "cell_type": "markdown",
      "source": [
        "**8.** Write a Python class `Inventory` with attributes like `item_id`, `item_name`, `stock_count`, and `price`, and methods like `add_item`, `update_item`, and `check_item_details`.\n",
        "\n",
        "Use a dictionary to store the item details, where the key is the `item_id` and the value is a dictionary containing the `item_name`, `stock_count`, and `price`.\n"
      ],
      "metadata": {
        "id": "4sHKucQc9wHA"
      }
    },
    {
      "cell_type": "code",
      "source": [
        "class Inventory:\n",
        "    def __init__(self):\n",
        "        self.items = {}\n",
        "\n",
        "    def add_item(self, item_id, item_name, stock_count, price):\n",
        "        if item_id not in self.items:\n",
        "            self.items[item_id] = {\n",
        "                'item_name': item_name,\n",
        "                'stock_count': stock_count,\n",
        "                'price': price\n",
        "            }\n",
        "            print(f\"Item {item_name} added to the inventory.\")\n",
        "        else:\n",
        "            print(f\"Item {item_name} already exists in the inventory. Use update_item to modify details.\")\n",
        "\n",
        "    def update_item(self, item_id, item_name=None, stock_count=None, price=None):\n",
        "        if item_id in self.items:\n",
        "            if item_name is not None:\n",
        "                self.items[item_id]['item_name'] = item_name\n",
        "            if stock_count is not None:\n",
        "                self.items[item_id]['stock_count'] = stock_count\n",
        "            if price is not None:\n",
        "                self.items[item_id]['price'] = price\n",
        "            print(f\"Item {item_id} details updated.\")\n",
        "        else:\n",
        "            print(f\"Item {item_id} does not exist in the inventory. Use add_item to add a new item.\")\n",
        "\n",
        "    def check_item_details(self, item_id):\n",
        "        if item_id in self.items:\n",
        "            return self.items[item_id]\n",
        "        else:\n",
        "            print(f\"Item {item_id} not found in the inventory.\")\n",
        "\n",
        "\n",
        "inventory = Inventory()\n",
        "\n",
        "\n",
        "inventory.add_item(1, \"Laptop\", 10, 800)\n",
        "inventory.add_item(2, \"Printer\", 5, 150)\n",
        "inventory.add_item(1, \"Desktop\", 8, 1200)\n",
        "\n",
        "\n",
        "inventory.update_item(1, item_name=\"Updated Laptop\", price=900)\n",
        "\n",
        "\n",
        "item_details = inventory.check_item_details(1)\n",
        "if item_details:\n",
        "    print(\"Item Details:\")\n",
        "    print(item_details)\n"
      ],
      "metadata": {
        "colab": {
          "base_uri": "https://localhost:8080/"
        },
        "id": "mg8MaFWw9_4T",
        "outputId": "ec95ba89-9b9f-4844-c49d-83c64ac43f6a"
      },
      "execution_count": 28,
      "outputs": [
        {
          "output_type": "stream",
          "name": "stdout",
          "text": [
            "Item Laptop added to the inventory.\n",
            "Item Printer added to the inventory.\n",
            "Item Desktop already exists in the inventory. Use update_item to modify details.\n",
            "Item 1 details updated.\n",
            "Item Details:\n",
            "{'item_name': 'Updated Laptop', 'stock_count': 10, 'price': 900}\n"
          ]
        }
      ]
    }
  ]
}