{
  "nbformat": 4,
  "nbformat_minor": 0,
  "metadata": {
    "colab": {
      "provenance": [],
      "authorship_tag": "ABX9TyM6NFbuE28ycHULSvE8b2AW",
      "include_colab_link": true
    },
    "kernelspec": {
      "name": "python3",
      "display_name": "Python 3"
    },
    "language_info": {
      "name": "python"
    }
  },
  "cells": [
    {
      "cell_type": "markdown",
      "metadata": {
        "id": "view-in-github",
        "colab_type": "text"
      },
      "source": [
        "<a href=\"https://colab.research.google.com/github/deepakatAviSoft/february_assignments/blob/main/weekly_assignmemt_3.ipynb\" target=\"_parent\"><img src=\"https://colab.research.google.com/assets/colab-badge.svg\" alt=\"Open In Colab\"/></a>"
      ]
    },
    {
      "cell_type": "markdown",
      "source": [
        "<pre>Tic Tac Toe Game in Python\n",
        "\n",
        "Create a Python program to implement a two-player Tic Tac Toe game. The game should be played in the console, and the players will take turns to make their moves.\n",
        "\n",
        "Requirements:\n",
        "\n",
        "Player Names:\n",
        "Allow players to enter their names at the beginning of the game instead of using generic 'Player 1' and 'Player 2'. Display the players' names throughout the game.\n",
        "\n",
        "Board Size Selection:\n",
        "Allow users to choose the size of the game board (e.g., 4x4, 5x5) instead of the standard 3x3. Make sure to adapt the win condition check accordingly.\n",
        "\n",
        "Dynamic Symbols:\n",
        "Let players choose their own symbols or even use non-traditional symbols. For example, they could play with letters, or any other characters.\n",
        "\n",
        "Game Statistics:\n",
        "Keep track of statistics such as the number of games played, wins for each player, and draws. Display these statistics at the end of each game or in a separate menu.\n",
        "\n",
        "The game should check for valid moves and display an error message if a player attempts to make an invalid move (e.g., choosing a cell that is already occupied).\n",
        "The game should check for a win condition after each move to determine if a player has won.\n",
        "If the board is filled with no winner, the game should declare a draw.\n",
        "After each game, ask players if they want to play again.</pre>"
      ],
      "metadata": {
        "id": "AsosSy3W0wiI"
      }
    },
    {
      "cell_type": "code",
      "execution_count": 5,
      "metadata": {
        "colab": {
          "base_uri": "https://localhost:8080/"
        },
        "id": "ncH_zeNmEgX9",
        "outputId": "f65dae88-5982-413f-a2b5-bf816b08c74b"
      },
      "outputs": [
        {
          "output_type": "stream",
          "name": "stdout",
          "text": [
            "Stopped\n"
          ]
        }
      ],
      "source": [
        "try:\n",
        "  def print_board(board):\n",
        "      for row in board:\n",
        "          print(\" | \".join(row))\n",
        "          print(\"-\" * (len(row) * 4 - 1))\n",
        "\n",
        "  def check_winner(board, symbol):\n",
        "      # Check rows and columns\n",
        "      for i in range(size):\n",
        "          if all(board[i][j] == symbol for j in range(size)):\n",
        "              return True\n",
        "          if all(board[j][i] == symbol for j in range(size)):\n",
        "              return True\n",
        "      # Check diagonals\n",
        "      if all(board[i][i] == symbol for i in range(size)):\n",
        "          return True\n",
        "      if all(board[i][size-i-1] == symbol for i in range(size)):\n",
        "          return True\n",
        "      return False\n",
        "\n",
        "  def is_board_full(board):\n",
        "      for row in board:\n",
        "          if ' ' in row:\n",
        "              return False\n",
        "      return True\n",
        "\n",
        "  def main():\n",
        "      global size\n",
        "      size = int(input(\"Enter the size of the board (e.g., 3 for 3x3): \"))\n",
        "      board = [[' ' for _ in range(size)] for _ in range(size)]\n",
        "      players = []\n",
        "      symbols = []\n",
        "\n",
        "      for i in range(2):\n",
        "          name = input(f\"Enter the name of player {i+1}: \")\n",
        "          symbol = input(f\"Enter the symbol for player {i+1}: \")\n",
        "          players.append(name)\n",
        "          symbols.append(symbol)\n",
        "\n",
        "      current_player = 0\n",
        "\n",
        "      while True:\n",
        "          print_board(board)\n",
        "          print(f\"{players[current_player]}, it's your turn.\")\n",
        "          while True:\n",
        "            try:\n",
        "              while True:\n",
        "                row = int(input(f\"Enter row (1-{size}): \")) - 1\n",
        "                if row <= size:\n",
        "                  break\n",
        "                else:\n",
        "                  print(\"Enter a number less than or equal to: \", size)\n",
        "              break\n",
        "            except ValueError:\n",
        "              print(\"Enter a valid vlaue\")\n",
        "\n",
        "          while True:\n",
        "            try:\n",
        "              while True:\n",
        "                col = int(input(f\"Enter column (1-{size}): \")) - 1\n",
        "\n",
        "                if col <= size:\n",
        "                  break\n",
        "                else:\n",
        "                  print(\"Enter a number less than or equal to: \", size)\n",
        "              break\n",
        "            except ValueError:\n",
        "              print(\"Enter a valid vlaue\")\n",
        "\n",
        "          if board[row][col] == ' ':\n",
        "              board[row][col] = symbols[current_player]\n",
        "              if check_winner(board, symbols[current_player]):\n",
        "                  print_board(board)\n",
        "                  print(f\"{players[current_player]} wins!\")\n",
        "                  break\n",
        "              elif is_board_full(board):\n",
        "                  print_board(board)\n",
        "                  print(\"It's a tie!\")\n",
        "                  break\n",
        "              else:\n",
        "                  current_player = (current_player + 1) % 2\n",
        "          else:\n",
        "              print(\"That spot is already taken. Try again.\")\n",
        "\n",
        "  if __name__ == \"__main__\":\n",
        "      main()\n",
        "except KeyboardInterrupt:\n",
        "  print(\"Stopped\")"
      ]
    },
    {
      "cell_type": "code",
      "source": [],
      "metadata": {
        "id": "_QAEHkBDEhkP"
      },
      "execution_count": null,
      "outputs": []
    }
  ]
}