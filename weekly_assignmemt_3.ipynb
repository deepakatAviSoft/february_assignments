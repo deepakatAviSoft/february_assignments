{
  "nbformat": 4,
  "nbformat_minor": 0,
  "metadata": {
    "colab": {
      "provenance": [],
      "authorship_tag": "ABX9TyMMfByuWHuCR0ysxGGLi2EQ",
      "include_colab_link": true
    },
    "kernelspec": {
      "name": "python3",
      "display_name": "Python 3"
    },
    "language_info": {
      "name": "python"
    }
  },
  "cells": [
    {
      "cell_type": "markdown",
      "metadata": {
        "id": "view-in-github",
        "colab_type": "text"
      },
      "source": [
        "<a href=\"https://colab.research.google.com/github/deepakatAviSoft/february_assignments/blob/main/weekly_assignmemt_3.ipynb\" target=\"_parent\"><img src=\"https://colab.research.google.com/assets/colab-badge.svg\" alt=\"Open In Colab\"/></a>"
      ]
    },
    {
      "cell_type": "code",
      "execution_count": 5,
      "metadata": {
        "colab": {
          "base_uri": "https://localhost:8080/"
        },
        "id": "ncH_zeNmEgX9",
        "outputId": "f65dae88-5982-413f-a2b5-bf816b08c74b"
      },
      "outputs": [
        {
          "output_type": "stream",
          "name": "stdout",
          "text": [
            "Stopped\n"
          ]
        }
      ],
      "source": [
        "try:\n",
        "  def print_board(board):\n",
        "      for row in board:\n",
        "          print(\" | \".join(row))\n",
        "          print(\"-\" * (len(row) * 4 - 1))\n",
        "\n",
        "  def check_winner(board, symbol):\n",
        "      # Check rows and columns\n",
        "      for i in range(size):\n",
        "          if all(board[i][j] == symbol for j in range(size)):\n",
        "              return True\n",
        "          if all(board[j][i] == symbol for j in range(size)):\n",
        "              return True\n",
        "      # Check diagonals\n",
        "      if all(board[i][i] == symbol for i in range(size)):\n",
        "          return True\n",
        "      if all(board[i][size-i-1] == symbol for i in range(size)):\n",
        "          return True\n",
        "      return False\n",
        "\n",
        "  def is_board_full(board):\n",
        "      for row in board:\n",
        "          if ' ' in row:\n",
        "              return False\n",
        "      return True\n",
        "\n",
        "  def main():\n",
        "      global size\n",
        "      size = int(input(\"Enter the size of the board (e.g., 3 for 3x3): \"))\n",
        "      board = [[' ' for _ in range(size)] for _ in range(size)]\n",
        "      players = []\n",
        "      symbols = []\n",
        "\n",
        "      for i in range(2):\n",
        "          name = input(f\"Enter the name of player {i+1}: \")\n",
        "          symbol = input(f\"Enter the symbol for player {i+1}: \")\n",
        "          players.append(name)\n",
        "          symbols.append(symbol)\n",
        "\n",
        "      current_player = 0\n",
        "\n",
        "      while True:\n",
        "          print_board(board)\n",
        "          print(f\"{players[current_player]}, it's your turn.\")\n",
        "          while True:\n",
        "            try:\n",
        "              while True:\n",
        "                row = int(input(f\"Enter row (1-{size}): \")) - 1\n",
        "                if row <= size:\n",
        "                  break\n",
        "                else:\n",
        "                  print(\"Enter a number less than or equal to: \", size)\n",
        "              break\n",
        "            except ValueError:\n",
        "              print(\"Enter a valid vlaue\")\n",
        "\n",
        "          while True:\n",
        "            try:\n",
        "              while True:\n",
        "                col = int(input(f\"Enter column (1-{size}): \")) - 1\n",
        "\n",
        "                if col <= size:\n",
        "                  break\n",
        "                else:\n",
        "                  print(\"Enter a number less than or equal to: \", size)\n",
        "              break\n",
        "            except ValueError:\n",
        "              print(\"Enter a valid vlaue\")\n",
        "\n",
        "          if board[row][col] == ' ':\n",
        "              board[row][col] = symbols[current_player]\n",
        "              if check_winner(board, symbols[current_player]):\n",
        "                  print_board(board)\n",
        "                  print(f\"{players[current_player]} wins!\")\n",
        "                  break\n",
        "              elif is_board_full(board):\n",
        "                  print_board(board)\n",
        "                  print(\"It's a tie!\")\n",
        "                  break\n",
        "              else:\n",
        "                  current_player = (current_player + 1) % 2\n",
        "          else:\n",
        "              print(\"That spot is already taken. Try again.\")\n",
        "\n",
        "  if __name__ == \"__main__\":\n",
        "      main()\n",
        "except KeyboardInterrupt:\n",
        "  print(\"Stopped\")"
      ]
    },
    {
      "cell_type": "code",
      "source": [],
      "metadata": {
        "id": "_QAEHkBDEhkP"
      },
      "execution_count": null,
      "outputs": []
    }
  ]
}