{
  "cells": [
    {
      "cell_type": "markdown",
      "metadata": {
        "id": "view-in-github",
        "colab_type": "text"
      },
      "source": [
        "<a href=\"https://colab.research.google.com/github/deepakatAviSoft/february_assignments/blob/main/05_02_2024_as1.ipynb\" target=\"_parent\"><img src=\"https://colab.research.google.com/assets/colab-badge.svg\" alt=\"Open In Colab\"/></a>"
      ]
    },
    {
      "cell_type": "markdown",
      "source": [
        "1. Write a Python script to display the various Date Time formats - <br>\n",
        "   a) Current date and time <br>\n",
        "   b) Current year <br>\n",
        "   c) Month of year <br>\n",
        "   d) Week number of the year <br>\n",
        "   e) Weekday of the week <br>\n",
        "   f) Day of year <br>\n",
        "   g) Day of the month <br>\n",
        "   h) Day of week\n"
      ],
      "metadata": {
        "id": "qkdhrAoS9TiA"
      }
    },
    {
      "cell_type": "code",
      "execution_count": null,
      "metadata": {
        "colab": {
          "base_uri": "https://localhost:8080/"
        },
        "id": "v7D_IlhCzs0A",
        "outputId": "4c6c1e17-df5d-4aa5-814a-7405e4307f05"
      },
      "outputs": [
        {
          "name": "stdout",
          "output_type": "stream",
          "text": [
            "Current Date and Time: 2024-02-05 05:51:26.075181\n",
            "Current Year: 2024\n",
            "Month of Year: February\n",
            "Week Number of the Year: 05\n",
            "Weekday of the Week: Monday\n",
            "Day of Year: 36\n",
            "Day of the Month: 5\n",
            "Day of the Week: 0\n"
          ]
        }
      ],
      "source": [
        "from datetime import datetime\n",
        "\n",
        "current_date_time = datetime.now()\n",
        "print(\"Current Date and Time:\", current_date_time)\n",
        "\n",
        "\n",
        "current_year = current_date_time.year\n",
        "print(\"Current Year:\", current_year)\n",
        "\n",
        "\n",
        "month_of_year = current_date_time.strftime(\"%B\")\n",
        "print(\"Month of Year:\", month_of_year)\n",
        "\n",
        "\n",
        "week_number = current_date_time.strftime(\"%U\")\n",
        "print(\"Week Number of the Year:\", week_number)\n",
        "\n",
        "\n",
        "weekday = current_date_time.strftime(\"%A\")\n",
        "print(\"Weekday of the Week:\", weekday)\n",
        "\n",
        "\n",
        "day_of_year = current_date_time.timetuple().tm_yday\n",
        "print(\"Day of Year:\", day_of_year)\n",
        "\n",
        "\n",
        "day_of_month = current_date_time.day\n",
        "print(\"Day of the Month:\", day_of_month)\n",
        "\n",
        "\n",
        "day_of_week = current_date_time.weekday()\n",
        "print(\"Day of the Week:\", day_of_week)\n"
      ]
    },
    {
      "cell_type": "markdown",
      "source": [
        "**2.** Write a Python program to subtract five days from the current date.<br>\n",
        "Sample Date :<br>\n",
        "Current Date : 2015-06-22<br>\n",
        "5 days before Current Date : 2015-06-17"
      ],
      "metadata": {
        "id": "S7wHNX3Q9cBD"
      }
    },
    {
      "cell_type": "code",
      "source": [
        "from datetime import datetime, timedelta\n",
        "\n",
        "current_date_str = '2015-06-22'\n",
        "current_date = datetime.strptime(current_date_str, '%Y-%m-%d')\n",
        "\n",
        "\n",
        "new_date = current_date - timedelta(days=5)\n",
        "\n",
        "\n",
        "print(f\"Current Date: {current_date.strftime('%Y-%m-%d')}\")\n",
        "print(f\"5 days before Current Date: {new_date.strftime('%Y-%m-%d')}\")\n"
      ],
      "metadata": {
        "colab": {
          "base_uri": "https://localhost:8080/"
        },
        "id": "wMH5HYz7CHy2",
        "outputId": "2a914807-4408-4f5b-e75f-889f7cef5cbc"
      },
      "execution_count": 16,
      "outputs": [
        {
          "output_type": "stream",
          "name": "stdout",
          "text": [
            "Current Date: 2015-06-22\n",
            "5 days before Current Date: 2015-06-17\n"
          ]
        }
      ]
    },
    {
      "cell_type": "markdown",
      "source": [
        "**3.** Write a Python program to calculate the number of days between two date times."
      ],
      "metadata": {
        "id": "wBUZkEDa-BGQ"
      }
    },
    {
      "cell_type": "code",
      "source": [
        "from datetime import datetime\n",
        "\n",
        "def days_between_dates(date_str1, date_str2, date_format=\"%Y-%m-%d %H:%M:%S\"):\n",
        "    date1 = datetime.strptime(date_str1, date_format)\n",
        "    date2 = datetime.strptime(date_str2, date_format)\n",
        "\n",
        "\n",
        "    delta = date2 - date1\n",
        "\n",
        "\n",
        "    days_difference = delta.days\n",
        "\n",
        "    return days_difference\n",
        "\n",
        "date_str1 = \"2024-01-01 12:00:00\"\n",
        "date_str2 = \"2024-02-05 18:30:00\"\n",
        "\n",
        "result = days_between_dates(date_str1, date_str2)\n",
        "print(f\"Number of days between {date_str1} and {date_str2}: {result} days\")\n"
      ],
      "metadata": {
        "colab": {
          "base_uri": "https://localhost:8080/"
        },
        "id": "_MOPapW4QYOs",
        "outputId": "d4d1299e-3ef2-40e8-8da0-9e244702b767"
      },
      "execution_count": 17,
      "outputs": [
        {
          "output_type": "stream",
          "name": "stdout",
          "text": [
            "Number of days between 2024-01-01 12:00:00 and 2024-02-05 18:30:00: 35 days\n"
          ]
        }
      ]
    },
    {
      "cell_type": "markdown",
      "source": [
        "**4.** Write a Python program to read an entire text file."
      ],
      "metadata": {
        "id": "D_FPfAOC-Kim"
      }
    },
    {
      "cell_type": "code",
      "source": [
        "\n",
        "file_path = '/content/example.txt'  # Update the file path accordingly\n",
        "\n",
        "file_content = \"\"\"\\\n",
        "Hello, this is a sample text file.\n",
        "It contains multiple lines of text.\n",
        "You can modify and customize it as needed.\n",
        "\"\"\"\n",
        "\n",
        "with open(file_path, 'w') as file:\n",
        "    file.write(file_content)\n",
        "\n",
        "\n",
        "def read_text_file(file_path):\n",
        "    try:\n",
        "        with open(file_path, 'r') as file:\n",
        "            content = file.read()\n",
        "            return content\n",
        "    except FileNotFoundError:\n",
        "        return f\"File not found: {file_path}\"\n",
        "    except Exception as e:\n",
        "        return f\"An error occurred: {str(e)}\"\n",
        "\n",
        "\n",
        "read_file_content = read_text_file(file_path)\n",
        "\n",
        "\n",
        "\n",
        "print(\"File Content:\")\n",
        "print(read_file_content)\n"
      ],
      "metadata": {
        "colab": {
          "base_uri": "https://localhost:8080/"
        },
        "id": "0HpbqgTpRl7d",
        "outputId": "b4a20c3a-ab48-4d0c-9c3e-b9aead62a9c2"
      },
      "execution_count": 20,
      "outputs": [
        {
          "output_type": "stream",
          "name": "stdout",
          "text": [
            "File Content:\n",
            "Hello, this is a sample text file.\n",
            "It contains multiple lines of text.\n",
            "You can modify and customize it as needed.\n",
            "\n"
          ]
        }
      ]
    },
    {
      "cell_type": "markdown",
      "source": [
        "**5.** Write a Python program to read first n lines of a file."
      ],
      "metadata": {
        "id": "hKF5kk5J-dcF"
      }
    },
    {
      "cell_type": "code",
      "source": [
        "def read_first_n_lines(file_path, n):\n",
        "    try:\n",
        "        with open(file_path, 'r') as file:\n",
        "            lines = [next(file) for _ in range(n)]\n",
        "            return ''.join(lines)\n",
        "    except FileNotFoundError:\n",
        "        return f\"File not found: {file_path}\"\n",
        "    except Exception as e:\n",
        "        return f\"An error occurred: {str(e)}\"\n",
        "\n",
        "file_path = '/content/example.txt'\n",
        "n = 2  # Number of lines to read\n",
        "\n",
        "\n",
        "first_n_lines = read_first_n_lines(file_path, n)\n",
        "\n",
        "\n",
        "print(f\"First {n} lines of the file:\")\n",
        "print(first_n_lines)\n"
      ],
      "metadata": {
        "colab": {
          "base_uri": "https://localhost:8080/"
        },
        "id": "dDWy5AoqSGAO",
        "outputId": "a261290d-c396-48e1-d506-85c18e05036c"
      },
      "execution_count": 23,
      "outputs": [
        {
          "output_type": "stream",
          "name": "stdout",
          "text": [
            "First 2 lines of the file:\n",
            "Hello, this is a sample text file.\n",
            "It contains multiple lines of text.\n",
            "\n"
          ]
        }
      ]
    },
    {
      "cell_type": "markdown",
      "source": [
        "***6.*** Write a Python program to read last n lines of a file."
      ],
      "metadata": {
        "id": "4StWYe-x-iQ0"
      }
    },
    {
      "cell_type": "code",
      "source": [
        "def read_last_n_lines(file_path, n):\n",
        "    try:\n",
        "        with open(file_path, 'r') as file:\n",
        "            lines = file.readlines()\n",
        "            last_n_lines = lines[-n:]\n",
        "            return ''.join(last_n_lines)\n",
        "    except FileNotFoundError:\n",
        "        return f\"File not found: {file_path}\"\n",
        "    except Exception as e:\n",
        "        return f\"An error occurred: {str(e)}\"\n",
        "\n",
        "\n",
        "file_path = '/content/example.txt'\n",
        "n = 2  # Number of lines to read\n",
        "\n",
        "\n",
        "last_n_lines = read_last_n_lines(file_path, n)\n",
        "\n",
        "\n",
        "print(f\"Last {n} lines of the file:\")\n",
        "print(last_n_lines)\n"
      ],
      "metadata": {
        "colab": {
          "base_uri": "https://localhost:8080/"
        },
        "id": "5TE4Y1IiSrVo",
        "outputId": "93eec9c1-5ef0-41b4-a991-0f75a2e8842c"
      },
      "execution_count": 24,
      "outputs": [
        {
          "output_type": "stream",
          "name": "stdout",
          "text": [
            "Last 2 lines of the file:\n",
            "It contains multiple lines of text.\n",
            "You can modify and customize it as needed.\n",
            "\n"
          ]
        }
      ]
    },
    {
      "cell_type": "markdown",
      "source": [
        "**7.** Write a Python program to get the file size of a plain file."
      ],
      "metadata": {
        "id": "dFnp5j-P-ltK"
      }
    },
    {
      "cell_type": "code",
      "source": [
        "import os\n",
        "\n",
        "def get_file_size(file_path):\n",
        "    try:\n",
        "        size_bytes = os.path.getsize(file_path)\n",
        "\n",
        "        size_kb = size_bytes / 1024\n",
        "        size_mb = size_kb / 1024\n",
        "\n",
        "        return size_bytes, size_kb, size_mb\n",
        "    except FileNotFoundError:\n",
        "        return f\"File not found: {file_path}\"\n",
        "    except Exception as e:\n",
        "        return f\"An error occurred: {str(e)}\"\n",
        "\n",
        "\n",
        "file_path = '/content/example.txt'\n",
        "\n",
        "\n",
        "file_size_bytes, file_size_kb, file_size_mb = get_file_size(file_path)\n",
        "\n",
        "\n",
        "print(f\"File Size:\")\n",
        "print(f\"In Bytes: {file_size_bytes} bytes\")\n",
        "print(f\"In Kilobytes: {file_size_kb:.2f} KB\")\n",
        "print(f\"In Megabytes: {file_size_mb:.2f} MB\")\n"
      ],
      "metadata": {
        "colab": {
          "base_uri": "https://localhost:8080/"
        },
        "id": "VOHFX1T2bi9j",
        "outputId": "1f827b4c-a434-4b9a-f37f-c4dfb0d0b832"
      },
      "execution_count": 25,
      "outputs": [
        {
          "output_type": "stream",
          "name": "stdout",
          "text": [
            "File Size:\n",
            "In Bytes: 114 bytes\n",
            "In Kilobytes: 0.11 KB\n",
            "In Megabytes: 0.00 MB\n"
          ]
        }
      ]
    },
    {
      "cell_type": "markdown",
      "source": [
        "**8.** Write a Python program that takes a text file as input and returns the number of words of a given text file.<br>\n",
        "Note: Some words can be separated by a comma with no space."
      ],
      "metadata": {
        "id": "Jr-f9H_S-sNx"
      }
    },
    {
      "cell_type": "code",
      "source": [
        "def count_words(file_path):\n",
        "    try:\n",
        "        with open(file_path, 'r') as file:\n",
        "            content = file.read()\n",
        "            content_without_commas = content.replace(',', ' ')\n",
        "            words = content_without_commas.split()\n",
        "            return len(words)\n",
        "    except FileNotFoundError:\n",
        "        return f\"File not found: {file_path}\"\n",
        "    except Exception as e:\n",
        "        return f\"An error occurred: {str(e)}\"\n",
        "\n",
        "\n",
        "file_path = '/content/example.txt'\n",
        "\n",
        "\n",
        "word_count = count_words(file_path)\n",
        "\n",
        "print(f\"Number of words in the file: {word_count}\")\n"
      ],
      "metadata": {
        "colab": {
          "base_uri": "https://localhost:8080/"
        },
        "id": "n1dEUuhOb4CF",
        "outputId": "ffc5aa05-e001-40d5-a724-d3c93de52fc4"
      },
      "execution_count": 26,
      "outputs": [
        {
          "output_type": "stream",
          "name": "stdout",
          "text": [
            "Number of words in the file: 21\n"
          ]
        }
      ]
    },
    {
      "cell_type": "markdown",
      "source": [
        "**9.** Write a Python program to generate 26 text files named A.txt, B.txt, and so on up to Z.txt."
      ],
      "metadata": {
        "id": "EC36xgad-1Pq"
      }
    },
    {
      "cell_type": "code",
      "source": [
        "import string\n",
        "\n",
        "def generate_text_files():\n",
        "    for letter in string.ascii_uppercase:\n",
        "        file_name = f\"{letter}.txt\"\n",
        "        with open(file_name, 'w') as file:\n",
        "            file.write(f\"This is the content of {file_name}\")\n",
        "\n",
        "#these files will be saved in the content folder of the google collab\n",
        "generate_text_files()\n",
        "\n"
      ],
      "metadata": {
        "id": "H4uKo8pUcfaQ"
      },
      "execution_count": 28,
      "outputs": []
    },
    {
      "cell_type": "markdown",
      "source": [
        "**10.** Write a Python program to read each row from a given csv file and print a list of strings."
      ],
      "metadata": {
        "id": "GVYKdlKR-3pj"
      }
    },
    {
      "cell_type": "code",
      "source": [
        "from google.colab import drive\n",
        "drive.mount('/content/drive')"
      ],
      "metadata": {
        "colab": {
          "base_uri": "https://localhost:8080/"
        },
        "id": "rlkA818DeXqw",
        "outputId": "1c7d1e82-73b4-4e94-d4bd-9d36b3819460"
      },
      "execution_count": 30,
      "outputs": [
        {
          "output_type": "stream",
          "name": "stdout",
          "text": [
            "Drive already mounted at /content/drive; to attempt to forcibly remount, call drive.mount(\"/content/drive\", force_remount=True).\n"
          ]
        }
      ]
    },
    {
      "cell_type": "code",
      "source": [
        "import pandas as pd\n",
        "\n",
        "csv_file_path = '/content/drive/MyDrive/x.csv'\n",
        "\n",
        "df = pd.read_csv(csv_file_path)\n",
        "\n",
        "\n",
        "print(df)\n"
      ],
      "metadata": {
        "colab": {
          "base_uri": "https://localhost:8080/"
        },
        "id": "TLMjDM8NeqsK",
        "outputId": "24996d02-cc52-45f7-d690-3b45597ca75c"
      },
      "execution_count": 31,
      "outputs": [
        {
          "output_type": "stream",
          "name": "stdout",
          "text": [
            "            Date      Date Type   Age     Sex                       Race  \\\n",
            "0     05/29/2012  Date of death  37.0    Male                      Black   \n",
            "1     06/27/2012  Date of death  37.0    Male                      White   \n",
            "2     03/24/2014  Date of death  28.0    Male                      White   \n",
            "3     12/31/2014  Date of death  26.0  Female                      White   \n",
            "4     01/16/2016  Date of death  41.0    Male                      White   \n",
            "...          ...            ...   ...     ...                        ...   \n",
            "9197  10/19/2021  Date of death  56.0    Male  Black or African American   \n",
            "9198  05/04/2021  Date of death  48.0    Male  Black or African American   \n",
            "9199  05/15/2021  Date of death  59.0    Male                      White   \n",
            "9200  05/28/2021  Date of death  68.0    Male  Black or African American   \n",
            "9201  12/24/2021  Date of death  29.0    Male                      White   \n",
            "\n",
            "                        Ethnicity Residence City Residence County  \\\n",
            "0                             NaN       STAMFORD        FAIRFIELD   \n",
            "1                             NaN        NORWICH       NEW LONDON   \n",
            "2                             NaN         HEBRON              NaN   \n",
            "3                             NaN         BALTIC              NaN   \n",
            "4                             NaN        SHELTON        FAIRFIELD   \n",
            "...                           ...            ...              ...   \n",
            "9197                          NaN       STAMFORD        FAIRFIELD   \n",
            "9198                          NaN     WEST HAVEN        NEW HAVEN   \n",
            "9199                          NaN   WETHERSFIELD         HARTFORD   \n",
            "9200                          NaN       HARTFORD         HARTFORD   \n",
            "9201  Not Spanish/Hispanic/Latino        SEYMOUR        NEW HAVEN   \n",
            "\n",
            "     Residence State   Injury City  ... Xylazine Gabapentin Opiate NOS  \\\n",
            "0                NaN      STAMFORD  ...      NaN        NaN        NaN   \n",
            "1                NaN       NORWICH  ...      NaN        NaN        NaN   \n",
            "2                NaN        HEBRON  ...      NaN        NaN        NaN   \n",
            "3                NaN           NaN  ...      NaN        NaN        NaN   \n",
            "4                 CT       SHELTON  ...      NaN        NaN        NaN   \n",
            "...              ...           ...  ...      ...        ...        ...   \n",
            "9197              CT      STAMFORD  ...      NaN        NaN        NaN   \n",
            "9198              CT    WEST HAVEN  ...      NaN        NaN        NaN   \n",
            "9199              CT  WETHERSFIELD  ...      NaN          Y        NaN   \n",
            "9200              CT      HARTFORD  ...      NaN        NaN        NaN   \n",
            "9201              CT       SEYMOUR  ...        Y        NaN        NaN   \n",
            "\n",
            "     Heroin/Morph/Codeine Other Opioid Any Opioid Other  \\\n",
            "0                     NaN          NaN        NaN   NaN   \n",
            "1                     NaN          NaN        NaN   NaN   \n",
            "2                     NaN          NaN        NaN   NaN   \n",
            "3                     NaN          NaN        NaN   NaN   \n",
            "4                     NaN          NaN          Y   NaN   \n",
            "...                   ...          ...        ...   ...   \n",
            "9197                  NaN          NaN          Y   PCP   \n",
            "9198                  NaN          NaN        NaN   NaN   \n",
            "9199                  NaN          NaN        NaN   NaN   \n",
            "9200                  NaN          NaN        NaN   NaN   \n",
            "9201                  NaN          NaN          Y   NaN   \n",
            "\n",
            "                               ResidenceCityGeo  \\\n",
            "0         STAMFORD, CT\\n(41.051924, -73.539475)   \n",
            "1          NORWICH, CT\\n(41.524304, -72.075821)   \n",
            "2           HEBRON, CT\\n(41.658069, -72.366324)   \n",
            "3           BALTIC, CT\\n(41.617221, -72.085031)   \n",
            "4          SHELTON, CT\\n(41.316843, -73.092968)   \n",
            "...                                         ...   \n",
            "9197      STAMFORD, CT\\n(41.051924, -73.539475)   \n",
            "9198    WEST HAVEN, CT\\n(41.272336, -72.949817)   \n",
            "9199  WETHERSFIELD, CT\\n(41.712487, -72.663607)   \n",
            "9200      HARTFORD, CT\\n(41.765775, -72.673356)   \n",
            "9201       SEYMOUR, CT\\n(41.395594, -73.073581)   \n",
            "\n",
            "                                  InjuryCityGeo  \\\n",
            "0         STAMFORD, CT\\n(41.051924, -73.539475)   \n",
            "1          NORWICH, CT\\n(41.524304, -72.075821)   \n",
            "2           HEBRON, CT\\n(41.658069, -72.366324)   \n",
            "3                   CT\\n(41.575155, -72.738288)   \n",
            "4          SHELTON, CT\\n(41.316843, -73.092968)   \n",
            "...                                         ...   \n",
            "9197      STAMFORD, CT\\n(41.051924, -73.539475)   \n",
            "9198    WEST HAVEN, CT\\n(41.272336, -72.949817)   \n",
            "9199  WETHERSFIELD, CT\\n(41.712487, -72.663607)   \n",
            "9200      HARTFORD, CT\\n(41.765775, -72.673356)   \n",
            "9201       SEYMOUR, CT\\n(41.395594, -73.073581)   \n",
            "\n",
            "                                  DeathCityGeo  \n",
            "0                  CT\\n(41.575155, -72.738288)  \n",
            "1         Norwich, CT\\n(41.524304, -72.075821)  \n",
            "2     Marlborough, CT\\n(41.632043, -72.461309)  \n",
            "3          Baltic, CT\\n(41.617221, -72.085031)  \n",
            "4      Bridgeport, CT\\n(41.179195, -73.189476)  \n",
            "...                                        ...  \n",
            "9197     Stamford, CT\\n(41.051924, -73.539475)  \n",
            "9198    New Haven, CT\\n(41.308252, -72.924161)  \n",
            "9199     Hartford, CT\\n(41.765775, -72.673356)  \n",
            "9200     Hartford, CT\\n(41.765775, -72.673356)  \n",
            "9201      Seymour, CT\\n(41.395594, -73.073581)  \n",
            "\n",
            "[9202 rows x 48 columns]\n"
          ]
        }
      ]
    },
    {
      "cell_type": "markdown",
      "source": [
        "**11.** Write a Python program to read a given CSV file having tab delimiter."
      ],
      "metadata": {
        "id": "Gmya5qkf-91E"
      }
    },
    {
      "cell_type": "code",
      "source": [
        "import pandas as pd\n",
        "\n",
        "csv_file_path = '/content/drive/MyDrive/FlyRNAi_data_baseline_vs_EGF.txt'\n",
        "\n",
        "\n",
        "df = pd.read_csv(csv_file_path, sep='\\t')\n",
        "\n",
        "print(df)\n"
      ],
      "metadata": {
        "colab": {
          "base_uri": "https://localhost:8080/"
        },
        "id": "CHwC14Mgg4nB",
        "outputId": "669c51e6-51b2-40d2-846d-89177dc99aa2"
      },
      "execution_count": 32,
      "outputs": [
        {
          "output_type": "stream",
          "name": "stdout",
          "text": [
            "                ID  EGF_Baseline  EGF_Stimulus\n",
            "0      FBgn0029994         -1.25         -0.27\n",
            "1      FBgn0037191         -1.05          0.78\n",
            "2      FBgn0036810          2.08          1.34\n",
            "3      FBgn0033320          1.15          0.45\n",
            "4      FBgn0051156         -1.77         -0.76\n",
            "...            ...           ...           ...\n",
            "11761  FBgn0026136          0.57          1.23\n",
            "11762  FBgn0037356          1.14         -0.95\n",
            "11763  FBgn0038214         -1.86         -0.67\n",
            "11764  FBgn0042110          1.49          0.43\n",
            "11765  FBgn0034202         -1.32         -0.22\n",
            "\n",
            "[11766 rows x 3 columns]\n"
          ]
        }
      ]
    },
    {
      "cell_type": "markdown",
      "source": [
        "**12.** Write a Python program that reads a CSV file and remove initial spaces, quotes around each entry and the delimiter."
      ],
      "metadata": {
        "id": "7NwEneBl_FGD"
      }
    },
    {
      "cell_type": "code",
      "source": [
        "import pandas as pd\n",
        "\n",
        "csv_file_path = '/content/drive/MyDrive/eg_file.csv'\n",
        "\n",
        "df = pd.read_csv(csv_file_path)\n",
        "\n",
        "df = df.applymap(lambda x: x.strip() if isinstance(x, str) else x)\n",
        "df = df.applymap(lambda x: x.strip('\"') if isinstance(x, str) else x)\n",
        "\n",
        "print(\"Original DataFrame:\")\n",
        "print(df)\n",
        "\n",
        "cleaned_csv_file_path = '/content/drive/MyDrive/cleaned_eg_file.csv'\n",
        "df.to_csv(cleaned_csv_file_path, index=False)\n",
        "\n",
        "print(\"\\nCleaned DataFrame saved to:\", cleaned_csv_file_path)\n"
      ],
      "metadata": {
        "colab": {
          "base_uri": "https://localhost:8080/"
        },
        "id": "IslJCbg3h7lx",
        "outputId": "f721b81e-3536-4c11-c37f-6d437c59f76d"
      },
      "execution_count": 33,
      "outputs": [
        {
          "output_type": "stream",
          "name": "stdout",
          "text": [
            "Original DataFrame:\n",
            "      Name  \"Age\"         \"City\"\n",
            "0    Alice     25       New York\n",
            "1      Bob     30  San Francisco\n",
            "2  Charlie     22         London\n",
            "\n",
            "Cleaned DataFrame saved to: /content/drive/MyDrive/cleaned_eg_file.csv\n"
          ]
        }
      ]
    },
    {
      "cell_type": "markdown",
      "source": [
        "**13.** Write a Python program to read specific columns of a given CSV file and print the content of the columns."
      ],
      "metadata": {
        "id": "UBW0ZTCS_Jfh"
      }
    },
    {
      "cell_type": "code",
      "execution_count": 43,
      "metadata": {
        "id": "jBHh8CwC04kp",
        "colab": {
          "base_uri": "https://localhost:8080/"
        },
        "outputId": "b4be1753-bc14-4ff0-8f6a-aee582132053"
      },
      "outputs": [
        {
          "output_type": "stream",
          "name": "stdout",
          "text": [
            "Selected Columns:\n",
            "    Age     Fare\n",
            "0  22.0   7.2500\n",
            "1  38.0  71.2833\n",
            "2  26.0   7.9250\n",
            "3  35.0  53.1000\n",
            "4  35.0   8.0500\n"
          ]
        }
      ],
      "source": [
        "import pandas as pd\n",
        "\n",
        "csv_file_path = '/content/drive/MyDrive/titanic.csv'\n",
        "\n",
        "selected_columns = ['Age', 'Fare']\n",
        "\n",
        "df = pd.read_csv(csv_file_path, usecols=selected_columns)\n",
        "\n",
        "\n",
        "print(\"Selected Columns:\")\n",
        "print(df.head())\n"
      ]
    }
  ],
  "metadata": {
    "colab": {
      "provenance": [],
      "authorship_tag": "ABX9TyNYo8kd7Wn/PJ0MDX3hGaGL",
      "include_colab_link": true
    },
    "kernelspec": {
      "display_name": "Python 3",
      "name": "python3"
    },
    "language_info": {
      "name": "python"
    }
  },
  "nbformat": 4,
  "nbformat_minor": 0
}