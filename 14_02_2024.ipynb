{
  "nbformat": 4,
  "nbformat_minor": 0,
  "metadata": {
    "colab": {
      "provenance": [],
      "authorship_tag": "ABX9TyOzWFZNkNiCjDo9yeDUWNpO",
      "include_colab_link": true
    },
    "kernelspec": {
      "name": "python3",
      "display_name": "Python 3"
    },
    "language_info": {
      "name": "python"
    }
  },
  "cells": [
    {
      "cell_type": "markdown",
      "metadata": {
        "id": "view-in-github",
        "colab_type": "text"
      },
      "source": [
        "<a href=\"https://colab.research.google.com/github/deepakatAviSoft/february_assignments/blob/main/14_02_2024.ipynb\" target=\"_parent\"><img src=\"https://colab.research.google.com/assets/colab-badge.svg\" alt=\"Open In Colab\"/></a>"
      ]
    },
    {
      "cell_type": "code",
      "source": [
        "import numpy as np"
      ],
      "metadata": {
        "id": "cuu1K9tb-4N-"
      },
      "execution_count": 1,
      "outputs": []
    },
    {
      "cell_type": "markdown",
      "source": [
        "**Problem 1**\n",
        "Write a NumPy program to test whether each element of a 1-D array is also present in a second array.\n",
        "<pre>\n",
        "Expected Output:\n",
        "Array1: [ 0 10 20 40 60]\n",
        "Array2: [0, 40]\n",
        "Compare each element of array1 and array2\n",
        "Output: [ True False False True False]\n",
        "</pre>\n"
      ],
      "metadata": {
        "id": "ugbODPYgwKRi"
      }
    },
    {
      "cell_type": "code",
      "source": [
        "def test_elements_in_second_array(arr1, arr2):\n",
        "    return np.isin(arr1, arr2)\n",
        "\n",
        "# Example arrays\n",
        "array1 = np.array([0, 10, 20, 40, 60])\n",
        "array2 = np.array([0, 20])\n",
        "\n",
        "result = test_elements_in_second_array(array1, array2)\n",
        "print(\"Elements of array1 also present in array2:\", result)"
      ],
      "metadata": {
        "colab": {
          "base_uri": "https://localhost:8080/"
        },
        "id": "lNH3ouJO-IlP",
        "outputId": "5c35ab1f-0544-4bc8-fc5e-827bfc60b4c3"
      },
      "execution_count": 3,
      "outputs": [
        {
          "output_type": "stream",
          "name": "stdout",
          "text": [
            "Elements of array1 also present in array2: [ True False  True False False]\n"
          ]
        }
      ]
    },
    {
      "cell_type": "markdown",
      "source": [
        "**Problem 2**\n",
        "Write a NumPy program to get the unique elements of an array\n",
        "<pre>\n",
        "Expected Output:\n",
        "Original array:\n",
        "[10 10 20 20 30 30]\n",
        "Unique elements of the above array:\n",
        "[10 20 30]\n",
        "Original array:\n",
        "[[1 1]\n",
        "[2 3]]\n",
        "Unique elements of the above array:\n",
        "[1 2 3]\n",
        "</pre>"
      ],
      "metadata": {
        "id": "pcZZmJ4iw-u_"
      }
    },
    {
      "cell_type": "code",
      "source": [
        "def get_unique_elements(arr):\n",
        "    return np.unique(arr)\n",
        "\n",
        "# Example arrays\n",
        "array1 = np.array([10, 10, 20, 20, 30, 30])\n",
        "array2 = np.array([[1, 1], [2, 3]])\n",
        "\n",
        "print(\"Original array:\")\n",
        "print(array1)\n",
        "print(\"Unique elements of the above array:\")\n",
        "print(get_unique_elements(array1))\n",
        "\n",
        "print(\"Original array:\")\n",
        "print(array2)\n",
        "print(\"Unique elements of the above array:\")\n",
        "print(get_unique_elements(array2))\n"
      ],
      "metadata": {
        "colab": {
          "base_uri": "https://localhost:8080/"
        },
        "id": "_IZPC6Ud_qp_",
        "outputId": "ceaeece7-34b9-42c1-a46d-dd0248852bc7"
      },
      "execution_count": 6,
      "outputs": [
        {
          "output_type": "stream",
          "name": "stdout",
          "text": [
            "Original array:\n",
            "[10 10 20 20 30 30]\n",
            "Unique elements of the above array:\n",
            "[10 20 30]\n",
            "#####\n",
            "Original array:\n",
            "[[1 1]\n",
            " [2 3]]\n",
            "Unique elements of the above array:\n",
            "[1 2 3]\n"
          ]
        }
      ]
    },
    {
      "cell_type": "markdown",
      "source": [
        "**Problem 3**\n",
        "Write a NumPy program to sort an along the first, last axis of an array.\n",
        "<pre>\n",
        "Sample array: [[2,5],[4,4]]\n",
        "Expected Output:\n",
        "Original array:\n",
        "[[4 6]\n",
        "[2 1]]\n",
        "Sort along the first axis:\n",
        "[[2 1]\n",
        "[4 6]]\n",
        "Sort along the last axis:\n",
        "[[1 2]\n",
        "[4 6]]\n",
        "</pre>"
      ],
      "metadata": {
        "id": "L2RQZJqNw_Al"
      }
    },
    {
      "cell_type": "code",
      "source": [
        "def sort_along_first_and_last_axis(arr):\n",
        "    sorted_first_axis = np.sort(arr, axis=0)\n",
        "    sorted_last_axis = np.sort(arr, axis=1)\n",
        "    return sorted_first_axis, sorted_last_axis\n",
        "\n",
        "# Sample array\n",
        "array = np.array([[4, 6], [2, 1]])\n",
        "\n",
        "print(\"Original array:\")\n",
        "print(array)\n",
        "\n",
        "sorted_first_axis, sorted_last_axis = sort_along_first_and_last_axis(array)\n",
        "\n",
        "print(\"Sort along the first axis:\")\n",
        "print(sorted_first_axis)\n",
        "\n",
        "print(\"Sort along the last axis:\")\n",
        "print(sorted_last_axis)\n"
      ],
      "metadata": {
        "colab": {
          "base_uri": "https://localhost:8080/"
        },
        "id": "MwMod-IYAWNQ",
        "outputId": "5631ebd4-be97-4b4c-d8a0-23b0092cd718"
      },
      "execution_count": 7,
      "outputs": [
        {
          "output_type": "stream",
          "name": "stdout",
          "text": [
            "Original array:\n",
            "[[4 6]\n",
            " [2 1]]\n",
            "Sort along the first axis:\n",
            "[[2 1]\n",
            " [4 6]]\n",
            "Sort along the last axis:\n",
            "[[4 6]\n",
            " [1 2]]\n"
          ]
        }
      ]
    },
    {
      "cell_type": "markdown",
      "source": [
        "**Problem 4**\n",
        "Write a NumPy program to count the occurrence of a specified item in a given\n",
        "<pre>\n",
        "Original array: [10 20 20 20 20 0 20 30 30 30 0 0 20 20 0]\n",
        "Sample Output: [4,1,7,3]\n",
        "Expalnation: 0 has occured 4 times, 10 has occured 1 time, 20 has occured 7 time and so on\n",
        "</pre>"
      ],
      "metadata": {
        "id": "3c-3pa2xw_EA"
      }
    },
    {
      "cell_type": "code",
      "source": [
        "array = np.array([10, 20, 20, 20, 20, 0, 20, 30, 30, 30, 0, 0, 20, 20, 0])\n",
        "unique_values, occurrence_count = np.unique(array, return_counts=True)\n",
        "print(occurrence_count)"
      ],
      "metadata": {
        "colab": {
          "base_uri": "https://localhost:8080/"
        },
        "id": "jU0zAMcyBVCG",
        "outputId": "4b701801-36b6-4274-ee62-978ea5e1053c"
      },
      "execution_count": 18,
      "outputs": [
        {
          "output_type": "stream",
          "name": "stdout",
          "text": [
            "[4 1 7 3]\n"
          ]
        }
      ]
    },
    {
      "cell_type": "markdown",
      "source": [
        "**Problem 5**\n",
        "Write a NumPy program to remove nan values from a given array.\n",
        "<pre>\n",
        "Sample Output:\n",
        "Original array:\n",
        "[200. 300. nan nan nan 700.]\n",
        "After removing nan values:\n",
        "[200. 300. 700.]\n",
        "</pre>"
      ],
      "metadata": {
        "id": "jqGhl5OixjZm"
      }
    },
    {
      "cell_type": "code",
      "source": [
        "array = np.array([200, 300, np.nan, np.nan, 700])\n",
        "# Remove np.nan values\n",
        "array_without_nan = array[~np.isnan(array)]\n",
        "\n",
        "print(\"Array without np.nan values:\")\n",
        "print(array_without_nan)"
      ],
      "metadata": {
        "colab": {
          "base_uri": "https://localhost:8080/"
        },
        "id": "sdCf8yYVQaxC",
        "outputId": "6e886ea8-511c-4248-a77f-396a4820dbea"
      },
      "execution_count": 19,
      "outputs": [
        {
          "output_type": "stream",
          "name": "stdout",
          "text": [
            "Array without np.nan values:\n",
            "[200. 300. 700.]\n"
          ]
        }
      ]
    },
    {
      "cell_type": "markdown",
      "source": [
        "**Problem 6**\n",
        "Write a NumPy program to calculate percentiles for a sequence or single-dimensional NumPy array.\n",
        "<pre>\n",
        "Sample Output:\n",
        "50th percentile (median):\n",
        "3.0\n",
        "40th percentile:\n",
        "2.6\n",
        "90th percentile:\n",
        "4.6\n",
        "</pre>"
      ],
      "metadata": {
        "id": "FBr72Yewxvag"
      }
    },
    {
      "cell_type": "code",
      "source": [
        "# Sample array\n",
        "array = np.array([1, 2, 3, 4, 5])\n",
        "\n",
        "# Calculate percentiles\n",
        "percentile_50 = np.percentile(array, 50)\n",
        "percentile_40 = np.percentile(array, 40)\n",
        "percentile_90 = np.percentile(array, 90)\n",
        "\n",
        "# Print percentiles\n",
        "print(\"50th percentile (median):\")\n",
        "print(percentile_50)\n",
        "print(\"40th percentile:\")\n",
        "print(percentile_40)\n",
        "print(\"90th percentile:\")\n",
        "print(percentile_90)\n"
      ],
      "metadata": {
        "colab": {
          "base_uri": "https://localhost:8080/"
        },
        "id": "a28NGwVGSaUa",
        "outputId": "fc61b0eb-ca69-4bf6-a345-b11beb260f00"
      },
      "execution_count": 20,
      "outputs": [
        {
          "output_type": "stream",
          "name": "stdout",
          "text": [
            "50th percentile (median):\n",
            "3.0\n",
            "40th percentile:\n",
            "2.6\n",
            "90th percentile:\n",
            "4.6\n"
          ]
        }
      ]
    },
    {
      "cell_type": "markdown",
      "source": [
        "**Problem 7**\n",
        "Write a NumPy program to find indices of elements equal to zero in a NumPy array.\n",
        "<pre>\n",
        "Sample Output: [1 0 2 0 3 0 4 5 6 7 8]\n",
        "Original array:\n",
        "Indices of elements equal to zero of the said array:\n",
        "[1 3 5]\n",
        "</pre>"
      ],
      "metadata": {
        "id": "e33vJ5xcyEMP"
      }
    },
    {
      "cell_type": "code",
      "source": [
        "# Sample array\n",
        "array = np.array([1, 0, 2, 0, 3, 0, 4, 5, 6, 7, 8])\n",
        "\n",
        "# Find indices of elements equal to zero\n",
        "zero_indices = np.where(array == 0)\n",
        "\n",
        "# Print original array and zero indices\n",
        "print(\"Original array:\")\n",
        "print(array)\n",
        "print(\"Indices of elements equal to zero of the said array:\")\n",
        "print(zero_indices[0])\n"
      ],
      "metadata": {
        "colab": {
          "base_uri": "https://localhost:8080/"
        },
        "id": "QHfTz-g5TAAT",
        "outputId": "355d6c7e-3e22-452c-8749-3bda5fcfcd17"
      },
      "execution_count": 21,
      "outputs": [
        {
          "output_type": "stream",
          "name": "stdout",
          "text": [
            "Original array:\n",
            "[1 0 2 0 3 0 4 5 6 7 8]\n",
            "Indices of elements equal to zero of the said array:\n",
            "[1 3 5]\n"
          ]
        }
      ]
    },
    {
      "cell_type": "markdown",
      "source": [
        "**Problem 8**\n",
        "Write a NumPy program to round elements of the array to the nearest integer, and then calculate the abslute value element wise.\n",
        "<pre>\n",
        "Sample Output:\n",
        "Original array:\n",
        "[-0.7 -1.5 -1.7 0.3 1.5 1.8 2. ]\n",
        "Round elements of the array to the nearest integer:\n",
        "[1. 2. 2. 0. 2. 2. 2.]\n",
        "</pre>"
      ],
      "metadata": {
        "id": "g6IHE6fJyEQS"
      }
    },
    {
      "cell_type": "code",
      "source": [
        "x = np.array([-.7, -1.5, -1.7, 0.3, 1.5, 1.8, 2.0])\n",
        "\n",
        "# Displaying the original array\n",
        "print(\"Original array:\")\n",
        "print(x)\n",
        "\n",
        "# Rounding elements of the array to the nearest integer\n",
        "x = np.rint(x)\n",
        "x = np.absolute(x)\n",
        "print(\"Round elements of the array to the nearest integer:\")\n",
        "print(x)\n"
      ],
      "metadata": {
        "colab": {
          "base_uri": "https://localhost:8080/"
        },
        "id": "3N_IIavwc7Cc",
        "outputId": "9268cf64-ee89-4fb2-8ac6-23e57c388ec4"
      },
      "execution_count": 24,
      "outputs": [
        {
          "output_type": "stream",
          "name": "stdout",
          "text": [
            "Original array:\n",
            "[-0.7 -1.5 -1.7  0.3  1.5  1.8  2. ]\n",
            "Round elements of the array to the nearest integer:\n",
            "[1. 2. 2. 0. 2. 2. 2.]\n"
          ]
        }
      ]
    },
    {
      "cell_type": "markdown",
      "source": [
        "**Problem 9**\n",
        "Write a NumPy program to calculate the difference between neighboring elements, element-wise, and prepend [0, 0] and append[200] to a given array.\n",
        "<pre>\n",
        "Sample output:\n",
        "Original array:\n",
        "[1 3 5 7 0]\n",
        "Difference between neighboring elements, element-wise, and prepend [0, 0] and append[200] to the said array:\n",
        "[ 0 0 2 2 2 -7 200]\n",
        "</pre>"
      ],
      "metadata": {
        "id": "oUHW-t3NyESR"
      }
    },
    {
      "cell_type": "code",
      "source": [
        "x = np.array([1, 3, 5, 7, 0])\n",
        "\n",
        "# Displaying the original array\n",
        "print(\"Original array: \")\n",
        "print(x)\n",
        "x = np.append(x,200) #(array you want to apppend into, append the number)\n",
        "# Calculating the difference between neighboring elements, element-wise\n",
        "print(\"Difference between neighboring elements, element-wise of the said array.\")\n",
        "print(np.diff(x))\n"
      ],
      "metadata": {
        "colab": {
          "base_uri": "https://localhost:8080/"
        },
        "id": "IqH0nN3VdugV",
        "outputId": "ec80b2e4-6244-4ebb-f14a-f629e995cc32"
      },
      "execution_count": 27,
      "outputs": [
        {
          "output_type": "stream",
          "name": "stdout",
          "text": [
            "Original array: \n",
            "[1 3 5 7 0]\n",
            "Difference between neighboring elements, element-wise of the said array.\n",
            "[  2   2   2  -7 200]\n"
          ]
        }
      ]
    },
    {
      "cell_type": "markdown",
      "source": [
        "**Problem 10**\n",
        "Write a NumPy program to get the indices of the sorted elements of a given array.\n",
        "<pre>\n",
        "Expected Output:\n",
        "Original array:\n",
        "[1023 5202 6230 1671 1682 5241 4532]\n",
        "Indices of the sorted elements of a given array:\n",
        "[0 3 4 6 1 5 2]\n",
        "</pre>"
      ],
      "metadata": {
        "id": "LwAGa4cdyEVs"
      }
    },
    {
      "cell_type": "code",
      "source": [
        "# Creating a NumPy array for student IDs\n",
        "student_id = np.array([1023, 5202, 6230, 1671, 1682, 5241, 4532])\n",
        "\n",
        "# Displaying the original array\n",
        "print(\"Original array:\")\n",
        "print(student_id)\n",
        "\n",
        "# Sorting the indices of the array's elements in ascending order\n",
        "i = np.argsort(student_id)\n",
        "\n",
        "# Displaying the indices of the sorted elements\n",
        "print(\"Indices of the sorted elements of a given array:\")\n",
        "print(i)\n"
      ],
      "metadata": {
        "colab": {
          "base_uri": "https://localhost:8080/"
        },
        "id": "zKTDPHy-ekYE",
        "outputId": "ce677729-ba14-470b-acc9-5d01a177b949"
      },
      "execution_count": 28,
      "outputs": [
        {
          "output_type": "stream",
          "name": "stdout",
          "text": [
            "Original array:\n",
            "[1023 5202 6230 1671 1682 5241 4532]\n",
            "Indices of the sorted elements of a given array:\n",
            "[0 3 4 6 1 5 2]\n"
          ]
        }
      ]
    },
    {
      "cell_type": "markdown",
      "source": [
        "**Problem 11**\n",
        "Write a NumPy program to partition a given array in a specified position and move all the smaller elements values to the left of the partition, and the remaining values to the right, in arbitrary order (based on random choice).\n",
        "<pre>\n",
        "Sample output:\n",
        "Original array:\n",
        "[ 70 50 20 30 -11 60 50 40]\n",
        "After partitioning on 4 the position:\n",
        "[-11 30 20 40 50 50 60 70]\n",
        "</pre>"
      ],
      "metadata": {
        "id": "FWt0ZvjWz3Nj"
      }
    },
    {
      "cell_type": "code",
      "source": [
        "# Creating an array of integers\n",
        "nums = np.array([70, 50, 20, 30, -11, 60, 50, 40])\n",
        "\n",
        "# Displaying the original array\n",
        "print(\"Original array:\")\n",
        "print(nums)\n",
        "\n",
        "# Partitioning the array at the 4th position\n",
        "print(\"\\nAfter partitioning on 4 the position:\")\n",
        "print(np.partition(nums, 4))\n"
      ],
      "metadata": {
        "id": "Y8ae44jifPIU"
      },
      "execution_count": null,
      "outputs": []
    },
    {
      "cell_type": "markdown",
      "source": [
        "**Problem 12**\n",
        "Compute the euclidean distance between two arrays a and b.\n",
        "<pre>\n",
        "Input:\n",
        "[1,2,3,4,5]\n",
        "[4,5,6,7,8]\n",
        "Euclidean distance is: 6.7082\n",
        "</pre>"
      ],
      "metadata": {
        "id": "wT2vZOYtz-vv"
      }
    },
    {
      "cell_type": "code",
      "source": [
        "# Input arrays\n",
        "a = np.array([1, 2, 3, 4, 5])\n",
        "b = np.array([4, 5, 6, 7, 8])\n",
        "\n",
        "# Compute Euclidean distance\n",
        "euclidean_distance = np.linalg.norm(a - b)\n",
        "\n",
        "# Print the result\n",
        "print(\"Euclidean distance is:\", euclidean_distance)\n"
      ],
      "metadata": {
        "colab": {
          "base_uri": "https://localhost:8080/"
        },
        "id": "0KsMt1pmfwXa",
        "outputId": "c1a0bdc2-486b-4f03-db9c-5b72dac15407"
      },
      "execution_count": 30,
      "outputs": [
        {
          "output_type": "stream",
          "name": "stdout",
          "text": [
            "Euclidean distance is: 6.708203932499369\n"
          ]
        }
      ]
    },
    {
      "cell_type": "markdown",
      "source": [
        "**Problem 13**\n",
        "Find all the peaks in a 1D numpy array a. Peaks are points surrounded by smaller values on both sides.\n",
        "<pre>\n",
        "Input:\n",
        "array([1, 3, 7, 1, 2, 6, 0, 1])\n",
        "Desired Output:\n",
        "array( [2, 5])\n",
        "where, 2 and 5 are the positions of peak values 7 and 6.\n",
        "</pre>"
      ],
      "metadata": {
        "id": "QLaIldpzz-21"
      }
    },
    {
      "cell_type": "code",
      "source": [
        "def find_peaks(array):\n",
        "    peaks = []\n",
        "    for i in range(1, len(array) - 1):\n",
        "        if array[i] > array[i - 1] and array[i] > array[i + 1]:\n",
        "            peaks.append(i)\n",
        "    return np.array(peaks)\n",
        "\n",
        "# Input array\n",
        "a = np.array([1, 3, 7, 1, 2, 6, 0, 1])\n",
        "\n",
        "# Find peaks\n",
        "peak_positions = find_peaks(a)\n",
        "\n",
        "# Print result\n",
        "print(\"Peak positions:\", peak_positions)\n"
      ],
      "metadata": {
        "colab": {
          "base_uri": "https://localhost:8080/"
        },
        "id": "k2Pb9opKpiIU",
        "outputId": "95284254-edf3-4a4a-ce70-1a71ba293621"
      },
      "execution_count": 31,
      "outputs": [
        {
          "output_type": "stream",
          "name": "stdout",
          "text": [
            "Peak positions: [2 5]\n"
          ]
        }
      ]
    },
    {
      "cell_type": "markdown",
      "source": [
        "**Problem 14**\n",
        "Find the index of nth repetition of number i .\n",
        "<pre>\n",
        "Inputs\n",
        "array([1, 2, 1, 1, 3, 4, 3, 1, 1, 2, 1, 1, 2])\n",
        "n = 5 (from user)\n",
        "i = 1 (from user)\n",
        "Output\n",
        "8\n",
        "</pre>"
      ],
      "metadata": {
        "id": "2or4aJvrz-6F"
      }
    },
    {
      "cell_type": "code",
      "source": [
        "def find_nth_repetition_index(array, n, i):\n",
        "    indices = np.where(array == i)[0]  # Find indices where i appears\n",
        "    if len(indices) < n:  # If number of occurrences is less than n\n",
        "        return -1  # Return -1 indicating not found\n",
        "    return indices[n - 1]  # Return the index of the nth occurrence\n",
        "\n",
        "# Input array\n",
        "arr = np.array([1, 2, 1, 1, 3, 4, 3, 1, 1, 2, 1, 1, 2])\n",
        "# i is one and and fith time one repeats on index 8\n",
        "n = 5\n",
        "i = 1\n",
        "\n",
        "# Find nth repetition index\n",
        "index = find_nth_repetition_index(arr, n, i)\n",
        "\n",
        "# Print result\n",
        "print(\"Index of nth repetition of number\", i, \"is:\", index)\n"
      ],
      "metadata": {
        "colab": {
          "base_uri": "https://localhost:8080/"
        },
        "id": "BApMiQnBpxLB",
        "outputId": "ce9690d8-0675-4ec6-8bd7-be0c30ab1528"
      },
      "execution_count": 32,
      "outputs": [
        {
          "output_type": "stream",
          "name": "stdout",
          "text": [
            "Index of nth repetition of number 1 is: 8\n"
          ]
        }
      ]
    }
  ]
}