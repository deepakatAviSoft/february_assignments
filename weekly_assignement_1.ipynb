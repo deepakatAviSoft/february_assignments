{
  "nbformat": 4,
  "nbformat_minor": 0,
  "metadata": {
    "colab": {
      "provenance": [],
      "authorship_tag": "ABX9TyOOj6amGn6MaWaIVS2yEtUs",
      "include_colab_link": true
    },
    "kernelspec": {
      "name": "python3",
      "display_name": "Python 3"
    },
    "language_info": {
      "name": "python"
    }
  },
  "cells": [
    {
      "cell_type": "markdown",
      "metadata": {
        "id": "view-in-github",
        "colab_type": "text"
      },
      "source": [
        "<a href=\"https://colab.research.google.com/github/deepakatAviSoft/february_assignments/blob/main/weekly_assignement_1.ipynb\" target=\"_parent\"><img src=\"https://colab.research.google.com/assets/colab-badge.svg\" alt=\"Open In Colab\"/></a>"
      ]
    },
    {
      "cell_type": "code",
      "source": [
        "class Student:\n",
        "    def __init__(self, student_info):\n",
        "        self.student_name = student_info[0]\n",
        "        self.student_roll_no = student_info[1]\n",
        "        self.marks_python = student_info[2]\n",
        "        self.marks_java = student_info[3]\n",
        "        self.marks_c = student_info[4]\n",
        "        self.marks_rust = student_info[5]\n",
        "\n",
        "    def show_grade_card(self):\n",
        "        print(\"Marks in Python: \", self.marks_python)\n",
        "        print(\"Marks in Java: \", self.marks_java)\n",
        "        print(\"Marks in C: \", self.marks_c)\n",
        "        print(\"Marks in Rust: \", self.marks_rust)\n",
        "\n",
        "    def calculate_average(self):\n",
        "        return (self.marks_python + self.marks_java + self.marks_c + self.marks_rust) / 4\n",
        "\n",
        "    def categorize_student(self, all_students):\n",
        "        below_40_marks = any(mark < 40 for mark in [self.marks_python, self.marks_java, self.marks_c, self.marks_rust])\n",
        "\n",
        "        if below_40_marks:\n",
        "            return \"Needs More Attention\"\n",
        "\n",
        "        sorted_students = sorted(all_students, key=lambda student: student.calculate_average(), reverse=True)\n",
        "        current_rank = sorted_students.index(self) + 1\n",
        "\n",
        "        if current_rank == 1:\n",
        "            return \"Topper\"\n",
        "        elif 2 <= current_rank <= 5:\n",
        "            return \"Top Five\"\n",
        "        elif 6 <= current_rank <= 10:\n",
        "            return \"Average\"\n",
        "        elif 11 <= current_rank <= 15:\n",
        "            return \"Below Average\"\n",
        "        else:\n",
        "            return \"Needs Attention\"\n",
        "\n",
        "\n",
        "students = []\n",
        "\n",
        "while True:\n",
        "    try:\n",
        "        name = input(\"Enter the name: \")\n",
        "        # Check for special characters in the name\n",
        "        if not name.isalpha():\n",
        "            raise ValueError(\"Name should contain only alphabetic characters.\")\n",
        "\n",
        "        roll_no = int(input(\"Enter the roll number: \"))\n",
        "        marks_python = int(input(\"Enter marks in Python: \"))\n",
        "        if marks_python > 100:\n",
        "            raise ValueError(\"Marks should be between 0 and 100.\")\n",
        "\n",
        "        marks_java = int(input(\"Enter marks in Java: \"))\n",
        "        if marks_java > 100:\n",
        "            raise ValueError(\"Marks should be between 0 and 100.\")\n",
        "\n",
        "        marks_c = int(input(\"Enter marks in C: \"))\n",
        "        if marks_c > 100:\n",
        "            raise ValueError(\"Marks should be between 0 and 100.\")\n",
        "\n",
        "        marks_rust = int(input(\"Enter marks in Rust: \"))\n",
        "        if marks_rust > 100:\n",
        "            raise ValueError(\"Marks should be between 0 and 100.\")\n",
        "\n",
        "        new_student = Student([name, roll_no, marks_python, marks_java, marks_c, marks_rust])\n",
        "        students.append(new_student)\n",
        "\n",
        "        another_student = input(\"Do you want to enter another student? (y/n): \")\n",
        "        if another_student.lower() != 'y':\n",
        "            break\n",
        "    except ValueError as ve:\n",
        "        print(f\"Error: {ve}\")\n",
        "        print(\"Please try again.\")\n",
        "\n",
        "# This will show the grade card of all the students\n",
        "for student in students:\n",
        "    print(f\"\\n{student.student_name} ({student.student_roll_no}):\")\n",
        "    student.show_grade_card()\n",
        "    category = student.categorize_student(students)\n",
        "    print(f\"Category: {category}\")\n"
      ],
      "metadata": {
        "colab": {
          "base_uri": "https://localhost:8080/"
        },
        "id": "3qceYH6WgIfE",
        "outputId": "22455dcf-519a-4dc5-f7e2-993bc6f4d5b6"
      },
      "execution_count": 7,
      "outputs": [
        {
          "output_type": "stream",
          "name": "stdout",
          "text": [
            "Enter the name: a\n",
            "Enter the roll number: 1\n",
            "Enter marks in Python: 45\n",
            "Enter marks in Java: 45\n",
            "Enter marks in C: 50\n",
            "Enter marks in Rust: 85\n",
            "Do you want to enter another student? (y/n): y\n",
            "Enter the name: b\n",
            "Enter the roll number: 2\n",
            "Enter marks in Python: 3\n",
            "Enter marks in Java: 78\n",
            "Enter marks in C: 85\n",
            "Enter marks in Rust: 86\n",
            "Do you want to enter another student? (y/n): n\n",
            "\n",
            "a (1):\n",
            "Marks in Python:  45\n",
            "Marks in Java:  45\n",
            "Marks in C:  50\n",
            "Marks in Rust:  85\n",
            "Category: Top Five\n",
            "\n",
            "b (2):\n",
            "Marks in Python:  3\n",
            "Marks in Java:  78\n",
            "Marks in C:  85\n",
            "Marks in Rust:  86\n",
            "Category: Needs More Attention\n"
          ]
        }
      ]
    }
  ]
}