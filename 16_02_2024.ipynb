{
  "nbformat": 4,
  "nbformat_minor": 0,
  "metadata": {
    "colab": {
      "provenance": [],
      "authorship_tag": "ABX9TyMMMDYDR0oEg0ICJ9u5CKLE",
      "include_colab_link": true
    },
    "kernelspec": {
      "name": "python3",
      "display_name": "Python 3"
    },
    "language_info": {
      "name": "python"
    }
  },
  "cells": [
    {
      "cell_type": "markdown",
      "metadata": {
        "id": "view-in-github",
        "colab_type": "text"
      },
      "source": [
        "<a href=\"https://colab.research.google.com/github/deepakatAviSoft/february_assignments/blob/main/16_02_2024.ipynb\" target=\"_parent\"><img src=\"https://colab.research.google.com/assets/colab-badge.svg\" alt=\"Open In Colab\"/></a>"
      ]
    },
    {
      "cell_type": "code",
      "source": [
        "import numpy as np"
      ],
      "metadata": {
        "id": "qle_RQP0wsTc"
      },
      "execution_count": 86,
      "outputs": []
    },
    {
      "cell_type": "markdown",
      "source": [
        "Write a NumPy program to get the numpy version and show numpy build configuration."
      ],
      "metadata": {
        "id": "_biNkolruPmC"
      }
    },
    {
      "cell_type": "code",
      "source": [
        "print(\"NumPy version:\", np.__version__)\n",
        "print(\"NumPy build configuration:\")\n",
        "print(np.show_config())"
      ],
      "metadata": {
        "colab": {
          "base_uri": "https://localhost:8080/"
        },
        "id": "HlWILV-8wNXz",
        "outputId": "7cea6e5c-f3af-419d-b1dd-24d6e3d1a60d"
      },
      "execution_count": 87,
      "outputs": [
        {
          "output_type": "stream",
          "name": "stdout",
          "text": [
            "NumPy version: 1.25.2\n",
            "NumPy build configuration:\n",
            "openblas64__info:\n",
            "    libraries = ['openblas64_', 'openblas64_']\n",
            "    library_dirs = ['/usr/local/lib']\n",
            "    language = c\n",
            "    define_macros = [('HAVE_CBLAS', None), ('BLAS_SYMBOL_SUFFIX', '64_'), ('HAVE_BLAS_ILP64', None)]\n",
            "    runtime_library_dirs = ['/usr/local/lib']\n",
            "blas_ilp64_opt_info:\n",
            "    libraries = ['openblas64_', 'openblas64_']\n",
            "    library_dirs = ['/usr/local/lib']\n",
            "    language = c\n",
            "    define_macros = [('HAVE_CBLAS', None), ('BLAS_SYMBOL_SUFFIX', '64_'), ('HAVE_BLAS_ILP64', None)]\n",
            "    runtime_library_dirs = ['/usr/local/lib']\n",
            "openblas64__lapack_info:\n",
            "    libraries = ['openblas64_', 'openblas64_']\n",
            "    library_dirs = ['/usr/local/lib']\n",
            "    language = c\n",
            "    define_macros = [('HAVE_CBLAS', None), ('BLAS_SYMBOL_SUFFIX', '64_'), ('HAVE_BLAS_ILP64', None), ('HAVE_LAPACKE', None)]\n",
            "    runtime_library_dirs = ['/usr/local/lib']\n",
            "lapack_ilp64_opt_info:\n",
            "    libraries = ['openblas64_', 'openblas64_']\n",
            "    library_dirs = ['/usr/local/lib']\n",
            "    language = c\n",
            "    define_macros = [('HAVE_CBLAS', None), ('BLAS_SYMBOL_SUFFIX', '64_'), ('HAVE_BLAS_ILP64', None), ('HAVE_LAPACKE', None)]\n",
            "    runtime_library_dirs = ['/usr/local/lib']\n",
            "Supported SIMD extensions in this NumPy install:\n",
            "    baseline = SSE,SSE2,SSE3\n",
            "    found = SSSE3,SSE41,POPCNT,SSE42,AVX,F16C,FMA3,AVX2\n",
            "    not found = AVX512F,AVX512CD,AVX512_KNL,AVX512_KNM,AVX512_SKX,AVX512_CLX,AVX512_CNL,AVX512_ICL\n",
            "None\n"
          ]
        }
      ]
    },
    {
      "cell_type": "markdown",
      "source": [
        "Write a NumPy program to get help on the add function."
      ],
      "metadata": {
        "id": "N2pYUZ27uQxq"
      }
    },
    {
      "cell_type": "code",
      "source": [
        "print(np.info(np.add))"
      ],
      "metadata": {
        "colab": {
          "base_uri": "https://localhost:8080/"
        },
        "id": "K952VSl7wN0c",
        "outputId": "92df12ff-2cee-4b2f-84f4-3678904b19a4"
      },
      "execution_count": 88,
      "outputs": [
        {
          "output_type": "stream",
          "name": "stdout",
          "text": [
            "add(x1, x2, /, out=None, *, where=True, casting='same_kind', order='K', dtype=None, subok=True[, signature, extobj])\n",
            "\n",
            "Add arguments element-wise.\n",
            "\n",
            "Parameters\n",
            "----------\n",
            "x1, x2 : array_like\n",
            "    The arrays to be added.\n",
            "    If ``x1.shape != x2.shape``, they must be broadcastable to a common\n",
            "    shape (which becomes the shape of the output).\n",
            "out : ndarray, None, or tuple of ndarray and None, optional\n",
            "    A location into which the result is stored. If provided, it must have\n",
            "    a shape that the inputs broadcast to. If not provided or None,\n",
            "    a freshly-allocated array is returned. A tuple (possible only as a\n",
            "    keyword argument) must have length equal to the number of outputs.\n",
            "where : array_like, optional\n",
            "    This condition is broadcast over the input. At locations where the\n",
            "    condition is True, the `out` array will be set to the ufunc result.\n",
            "    Elsewhere, the `out` array will retain its original value.\n",
            "    Note that if an uninitialized `out` array is created via the default\n",
            "    ``out=None``, locations within it where the condition is False will\n",
            "    remain uninitialized.\n",
            "**kwargs\n",
            "    For other keyword-only arguments, see the\n",
            "    :ref:`ufunc docs <ufuncs.kwargs>`.\n",
            "\n",
            "Returns\n",
            "-------\n",
            "add : ndarray or scalar\n",
            "    The sum of `x1` and `x2`, element-wise.\n",
            "    This is a scalar if both `x1` and `x2` are scalars.\n",
            "\n",
            "Notes\n",
            "-----\n",
            "Equivalent to `x1` + `x2` in terms of array broadcasting.\n",
            "\n",
            "Examples\n",
            "--------\n",
            ">>> np.add(1.0, 4.0)\n",
            "5.0\n",
            ">>> x1 = np.arange(9.0).reshape((3, 3))\n",
            ">>> x2 = np.arange(3.0)\n",
            ">>> np.add(x1, x2)\n",
            "array([[  0.,   2.,   4.],\n",
            "       [  3.,   5.,   7.],\n",
            "       [  6.,   8.,  10.]])\n",
            "\n",
            "The ``+`` operator can be used as a shorthand for ``np.add`` on ndarrays.\n",
            "\n",
            ">>> x1 = np.arange(9.0).reshape((3, 3))\n",
            ">>> x2 = np.arange(3.0)\n",
            ">>> x1 + x2\n",
            "array([[ 0.,  2.,  4.],\n",
            "       [ 3.,  5.,  7.],\n",
            "       [ 6.,  8., 10.]])\n",
            "None\n"
          ]
        }
      ]
    },
    {
      "cell_type": "markdown",
      "source": [
        "Write a NumPy program to test whether none of the elements of a given array is zero."
      ],
      "metadata": {
        "id": "qkwPw8mZuTID"
      }
    },
    {
      "cell_type": "code",
      "source": [
        "arr = np.array([1, 2, 3, 4, 5])\n",
        "print(np.all(arr != 0))"
      ],
      "metadata": {
        "colab": {
          "base_uri": "https://localhost:8080/"
        },
        "id": "iFRGdEW2wOUL",
        "outputId": "d85f9257-76bf-4c3f-a7b0-9f2cd9ef8a82"
      },
      "execution_count": 89,
      "outputs": [
        {
          "output_type": "stream",
          "name": "stdout",
          "text": [
            "True\n"
          ]
        }
      ]
    },
    {
      "cell_type": "markdown",
      "source": [
        "Write a NumPy program to test if any of the elements of a given array is non-zero. Go to the editor"
      ],
      "metadata": {
        "id": "wdtIwwzEuUkT"
      }
    },
    {
      "cell_type": "code",
      "source": [
        "arr = np.array([1, 0, 3, 0, 5])\n",
        "print(np.any(arr != 0))"
      ],
      "metadata": {
        "colab": {
          "base_uri": "https://localhost:8080/"
        },
        "id": "4gJLinCxwPI1",
        "outputId": "1aaee726-a994-4a87-d9ec-094cb3eacb16"
      },
      "execution_count": 90,
      "outputs": [
        {
          "output_type": "stream",
          "name": "stdout",
          "text": [
            "True\n"
          ]
        }
      ]
    },
    {
      "cell_type": "markdown",
      "source": [
        "Write a NumPy program to test a given array element-wise for finiteness (not infinity or not a Number)."
      ],
      "metadata": {
        "id": "-H8Tld6SuWc6"
      }
    },
    {
      "cell_type": "code",
      "source": [
        "arr = np.array([1, np.inf, np.nan, 3])\n",
        "print(np.isfinite(arr))"
      ],
      "metadata": {
        "colab": {
          "base_uri": "https://localhost:8080/"
        },
        "id": "Aw1cYBOiwPiW",
        "outputId": "cce217f7-af1d-4626-86af-8c2397d6083b"
      },
      "execution_count": 91,
      "outputs": [
        {
          "output_type": "stream",
          "name": "stdout",
          "text": [
            "[ True False False  True]\n"
          ]
        }
      ]
    },
    {
      "cell_type": "markdown",
      "source": [
        "Write a NumPy program to test element-wise for positive or negative infinity.\n"
      ],
      "metadata": {
        "id": "5hm9rPkJuuJD"
      }
    },
    {
      "cell_type": "code",
      "source": [
        "arr = np.array([1, np.inf, -np.inf, 3])\n",
        "print(np.isinf(arr))\n"
      ],
      "metadata": {
        "colab": {
          "base_uri": "https://localhost:8080/"
        },
        "id": "CnvIOiSIwP-j",
        "outputId": "8e22676e-e958-49ad-9d31-99da939fada9"
      },
      "execution_count": 92,
      "outputs": [
        {
          "output_type": "stream",
          "name": "stdout",
          "text": [
            "[False  True  True False]\n"
          ]
        }
      ]
    },
    {
      "cell_type": "markdown",
      "source": [
        "Write a NumPy program to test element-wise for NaN of a given array. Go to the editor\n"
      ],
      "metadata": {
        "id": "F35-DwkDuZ4y"
      }
    },
    {
      "cell_type": "code",
      "source": [
        "# 7. Test element-wise for NaN of a given array:\n",
        "arr = np.array([1, np.nan, 2, np.inf])\n",
        "print(np.isnan(arr))"
      ],
      "metadata": {
        "colab": {
          "base_uri": "https://localhost:8080/"
        },
        "id": "NKPRdTBwwQuz",
        "outputId": "56da283e-9c59-4561-88ed-eec192884cf5"
      },
      "execution_count": 93,
      "outputs": [
        {
          "output_type": "stream",
          "name": "stdout",
          "text": [
            "[False  True False False]\n"
          ]
        }
      ]
    },
    {
      "cell_type": "markdown",
      "source": [
        "Write a NumPy program to test element-wise for complex number, real number of a given array. Also test if a given number is a scalar type or not."
      ],
      "metadata": {
        "id": "meMu1N45uzma"
      }
    },
    {
      "cell_type": "code",
      "source": [
        "# 8. Test element-wise for complex number, real number of a given array. Also test if a given number is a scalar type or not:\n",
        "arr = np.array([1+2j, 3.5, 4])\n",
        "print(\"Complex:\", np.iscomplex(arr))\n",
        "print(\"Real:\", np.isreal(arr))\n",
        "print(\"Scalar type:\", np.isscalar(3))"
      ],
      "metadata": {
        "colab": {
          "base_uri": "https://localhost:8080/"
        },
        "id": "Z_CBi00qwRMK",
        "outputId": "91829fa2-74ef-4123-875d-975e22443b76"
      },
      "execution_count": 94,
      "outputs": [
        {
          "output_type": "stream",
          "name": "stdout",
          "text": [
            "Complex: [ True False False]\n",
            "Real: [False  True  True]\n",
            "Scalar type: True\n"
          ]
        }
      ]
    },
    {
      "cell_type": "markdown",
      "source": [
        "Write a NumPy program to test if two arrays are element-wise equal within a tolerance.\n"
      ],
      "metadata": {
        "id": "KcT3dH3muzpz"
      }
    },
    {
      "cell_type": "code",
      "source": [
        "# 9. Test if two arrays are element-wise equal within a tolerance:\n",
        "arr1 = np.array([1, 2, 3])\n",
        "arr2 = np.array([1.01, 2.02, 3.03])\n",
        "print(np.allclose(arr1, arr2, atol=0.05))\n"
      ],
      "metadata": {
        "colab": {
          "base_uri": "https://localhost:8080/"
        },
        "id": "OhT74JOgwSAD",
        "outputId": "e1ee6d7a-2d38-452b-e505-dc4a4eb97b73"
      },
      "execution_count": 95,
      "outputs": [
        {
          "output_type": "stream",
          "name": "stdout",
          "text": [
            "True\n"
          ]
        }
      ]
    },
    {
      "cell_type": "markdown",
      "source": [
        "Write a NumPy program to create an element-wise comparison (greater, greater_equal, less and less_equal) of two given arrays."
      ],
      "metadata": {
        "id": "rKMZifqbu5vx"
      }
    },
    {
      "cell_type": "code",
      "source": [
        "# 10. Create an element-wise comparison (greater, greater_equal, less and less_equal) of two given arrays:\n",
        "arr1 = np.array([1, 2, 3])\n",
        "arr2 = np.array([2, 2, 2])\n",
        "print(\"Greater:\", arr1 > arr2)\n",
        "print(\"Greater or equal:\", arr1 >= arr2)\n",
        "print(\"Less:\", arr1 < arr2)\n",
        "print(\"Less or equal:\", arr1 <= arr2)"
      ],
      "metadata": {
        "colab": {
          "base_uri": "https://localhost:8080/"
        },
        "id": "YjiuaLqcwSib",
        "outputId": "3fcde209-71d1-4ea6-93ee-e063c8361119"
      },
      "execution_count": 96,
      "outputs": [
        {
          "output_type": "stream",
          "name": "stdout",
          "text": [
            "Greater: [False False  True]\n",
            "Greater or equal: [False  True  True]\n",
            "Less: [ True False False]\n",
            "Less or equal: [ True  True False]\n"
          ]
        }
      ]
    },
    {
      "cell_type": "markdown",
      "source": [
        "Write a NumPy program to create an element-wise comparison (equal, equal within a tolerance) of two given arrays."
      ],
      "metadata": {
        "id": "ukX3oR0Zu7iy"
      }
    },
    {
      "cell_type": "code",
      "source": [
        "# 11. Create an element-wise comparison (equal, equal within a tolerance) of two given arrays:\n",
        "arr1 = np.array([1, 2, 3])\n",
        "arr2 = np.array([1.01, 2.02, 3.03])\n",
        "print(\"Equal:\", np.equal(arr1, arr2))\n",
        "print(\"Equal within a tolerance:\", np.allclose(arr1, arr2, atol=0.05))"
      ],
      "metadata": {
        "colab": {
          "base_uri": "https://localhost:8080/"
        },
        "id": "7JZfE2J4wTNj",
        "outputId": "c9712d2b-4659-4e46-8eff-0c11ebf31504"
      },
      "execution_count": 97,
      "outputs": [
        {
          "output_type": "stream",
          "name": "stdout",
          "text": [
            "Equal: [False False False]\n",
            "Equal within a tolerance: True\n"
          ]
        }
      ]
    },
    {
      "cell_type": "markdown",
      "source": [
        "Write a NumPy program to create an array with the values 1, 7, 13, 105 and determine the size of the memory occupied by the array."
      ],
      "metadata": {
        "id": "83RxwkGou_5L"
      }
    },
    {
      "cell_type": "code",
      "source": [
        "# 12. Create an array with the values 1, 7, 13, 105 and determine the size of the memory occupied by the array:\n",
        "arr = np.array([1, 7, 13, 105])\n",
        "print(\"Memory occupied by the array:\", arr.nbytes, \"bytes\")"
      ],
      "metadata": {
        "colab": {
          "base_uri": "https://localhost:8080/"
        },
        "id": "H0YBPNXSwT1a",
        "outputId": "95ef4d9a-047f-4cdd-a856-b1e42c9d6fb4"
      },
      "execution_count": 98,
      "outputs": [
        {
          "output_type": "stream",
          "name": "stdout",
          "text": [
            "Memory occupied by the array: 32 bytes\n"
          ]
        }
      ]
    },
    {
      "cell_type": "markdown",
      "source": [
        "Write a NumPy program to create an array of 10 zeros,10 ones, 10 fives."
      ],
      "metadata": {
        "id": "zGISY8HDvCq6"
      }
    },
    {
      "cell_type": "code",
      "source": [
        "# 13. Create an array of 10 zeros, 10 ones, 10 fives:\n",
        "zeros_arr = np.zeros(10)\n",
        "ones_arr = np.ones(10)\n",
        "fives_arr = np.full(10, 5)\n",
        "print(\"Array of 10 zeros:\", zeros_arr)\n",
        "print(\"Array of 10 ones:\", ones_arr)\n",
        "print(\"Array of 10 fives:\", fives_arr)"
      ],
      "metadata": {
        "colab": {
          "base_uri": "https://localhost:8080/"
        },
        "id": "gWs2MqBvwUVE",
        "outputId": "b196e9e4-cfb4-4e36-b03f-a914493c3a36"
      },
      "execution_count": 99,
      "outputs": [
        {
          "output_type": "stream",
          "name": "stdout",
          "text": [
            "Array of 10 zeros: [0. 0. 0. 0. 0. 0. 0. 0. 0. 0.]\n",
            "Array of 10 ones: [1. 1. 1. 1. 1. 1. 1. 1. 1. 1.]\n",
            "Array of 10 fives: [5 5 5 5 5 5 5 5 5 5]\n"
          ]
        }
      ]
    },
    {
      "cell_type": "markdown",
      "source": [
        "Write a NumPy program to create an array of the integers from 30 to70."
      ],
      "metadata": {
        "id": "ydlezE5hvG5r"
      }
    },
    {
      "cell_type": "code",
      "source": [
        "# 14. Create an array of the integers from 30 to 70:\n",
        "arr = np.arange(30, 71)\n",
        "print(arr)\n"
      ],
      "metadata": {
        "colab": {
          "base_uri": "https://localhost:8080/"
        },
        "id": "JFumLr00wU3T",
        "outputId": "bcf2b01c-aff3-4cf9-9801-1a770521337d"
      },
      "execution_count": 100,
      "outputs": [
        {
          "output_type": "stream",
          "name": "stdout",
          "text": [
            "[30 31 32 33 34 35 36 37 38 39 40 41 42 43 44 45 46 47 48 49 50 51 52 53\n",
            " 54 55 56 57 58 59 60 61 62 63 64 65 66 67 68 69 70]\n"
          ]
        }
      ]
    },
    {
      "cell_type": "markdown",
      "source": [
        "Write a NumPy program to create an array of all the even integers from 30 to 70."
      ],
      "metadata": {
        "id": "Wo3ufNj5vMGK"
      }
    },
    {
      "cell_type": "code",
      "source": [
        "# 15. Create an array of all the even integers from 30 to 70:\n",
        "arr = np.arange(30, 71, 2)\n",
        "print(arr)"
      ],
      "metadata": {
        "colab": {
          "base_uri": "https://localhost:8080/"
        },
        "id": "Cgs1-GP1wVfa",
        "outputId": "ad30a73d-89ff-4802-b420-e0f9d0ef03c3"
      },
      "execution_count": 101,
      "outputs": [
        {
          "output_type": "stream",
          "name": "stdout",
          "text": [
            "[30 32 34 36 38 40 42 44 46 48 50 52 54 56 58 60 62 64 66 68 70]\n"
          ]
        }
      ]
    },
    {
      "cell_type": "markdown",
      "source": [
        "Write a NumPy program to create a 3x3 identity matrix."
      ],
      "metadata": {
        "id": "rENaB6iOvPya"
      }
    },
    {
      "cell_type": "code",
      "source": [
        "# 16. Create a 3x3 identity matrix:\n",
        "identity_matrix = np.eye(3)\n",
        "print(identity_matrix)"
      ],
      "metadata": {
        "colab": {
          "base_uri": "https://localhost:8080/"
        },
        "id": "bkj90m1NwWKD",
        "outputId": "bd8d52dc-913b-4d18-de45-fae45c336e25"
      },
      "execution_count": 102,
      "outputs": [
        {
          "output_type": "stream",
          "name": "stdout",
          "text": [
            "[[1. 0. 0.]\n",
            " [0. 1. 0.]\n",
            " [0. 0. 1.]]\n"
          ]
        }
      ]
    },
    {
      "cell_type": "markdown",
      "source": [
        "Write a NumPy program to generate a random number between 0 and 1."
      ],
      "metadata": {
        "id": "hW7GpjN1vS-T"
      }
    },
    {
      "cell_type": "code",
      "source": [
        "# 17. Generate a random number between 0 and 1:\n",
        "random_number = np.random.rand()\n",
        "print(random_number)"
      ],
      "metadata": {
        "colab": {
          "base_uri": "https://localhost:8080/"
        },
        "id": "JcnmYuI3wXA8",
        "outputId": "e0c6aed4-91c4-4da4-ae46-2581855b276e"
      },
      "execution_count": 103,
      "outputs": [
        {
          "output_type": "stream",
          "name": "stdout",
          "text": [
            "0.6399900542885406\n"
          ]
        }
      ]
    },
    {
      "cell_type": "markdown",
      "source": [
        "Write a NumPy program to generate an array of 15 random numbers from a standard normal distribution."
      ],
      "metadata": {
        "id": "6qsAeKZEvU9x"
      }
    },
    {
      "cell_type": "code",
      "source": [
        "# 18. Generate an array of 15 random numbers from a standard normal distribution:\n",
        "random_numbers = np.random.randn(15)\n",
        "print(random_numbers)"
      ],
      "metadata": {
        "colab": {
          "base_uri": "https://localhost:8080/"
        },
        "id": "h8Z1HFxcwXsr",
        "outputId": "03323d7b-3659-4877-95d1-fa5972358a10"
      },
      "execution_count": 104,
      "outputs": [
        {
          "output_type": "stream",
          "name": "stdout",
          "text": [
            "[ 1.65522544 -0.54226806  0.87212695  0.65430001 -0.73353401 -0.1020577\n",
            "  1.22557018 -0.38806974 -2.06659048 -0.71894511 -0.31272924 -0.08195538\n",
            "  0.09216962  0.24221229  2.97923731]\n"
          ]
        }
      ]
    },
    {
      "cell_type": "markdown",
      "source": [
        "Write a NumPy program to create a vector with values ranging from 15 to 55 and print all values except the first and last."
      ],
      "metadata": {
        "id": "rThT5cadvXly"
      }
    },
    {
      "cell_type": "code",
      "source": [
        "# 19. Create a vector with values ranging from 15 to 55 and print all values except the first and last:\n",
        "vector = np.arange(15, 56)\n",
        "print(vector[1:-1])"
      ],
      "metadata": {
        "colab": {
          "base_uri": "https://localhost:8080/"
        },
        "id": "M46ZYacLwYF2",
        "outputId": "09fe203c-aafe-4eed-85d3-a795587b7fe8"
      },
      "execution_count": 105,
      "outputs": [
        {
          "output_type": "stream",
          "name": "stdout",
          "text": [
            "[16 17 18 19 20 21 22 23 24 25 26 27 28 29 30 31 32 33 34 35 36 37 38 39\n",
            " 40 41 42 43 44 45 46 47 48 49 50 51 52 53 54]\n"
          ]
        }
      ]
    },
    {
      "cell_type": "markdown",
      "source": [
        "Write a NumPy program to create a 3X4 array using and iterate over it."
      ],
      "metadata": {
        "id": "Muu__hfIvZpS"
      }
    },
    {
      "cell_type": "code",
      "source": [
        "# 20. Create a 3x4 array using and iterate over it:\n",
        "arr = np.arange(12).reshape(3, 4)\n",
        "for row in arr:\n",
        "    for item in row:\n",
        "        print(item, end=' ')\n",
        "    print()"
      ],
      "metadata": {
        "colab": {
          "base_uri": "https://localhost:8080/"
        },
        "id": "nEwfP1_JwYic",
        "outputId": "20900c6d-50d4-4773-c26e-e0441a566b8f"
      },
      "execution_count": 106,
      "outputs": [
        {
          "output_type": "stream",
          "name": "stdout",
          "text": [
            "0 1 2 3 \n",
            "4 5 6 7 \n",
            "8 9 10 11 \n"
          ]
        }
      ]
    },
    {
      "cell_type": "markdown",
      "source": [
        "Write a NumPy program to create a vector of length 10 with values evenly distributed between 5 and 50."
      ],
      "metadata": {
        "id": "50rbkraSvcFz"
      }
    },
    {
      "cell_type": "code",
      "source": [
        "# 21. Create a vector of length 10 with values evenly distributed between 5 and 50:\n",
        "vector = np.linspace(5, 50, 10)\n",
        "print(vector)"
      ],
      "metadata": {
        "colab": {
          "base_uri": "https://localhost:8080/"
        },
        "id": "ztq6eNplwY-V",
        "outputId": "9623149f-a780-4715-9e91-ffaee911a53c"
      },
      "execution_count": 107,
      "outputs": [
        {
          "output_type": "stream",
          "name": "stdout",
          "text": [
            "[ 5. 10. 15. 20. 25. 30. 35. 40. 45. 50.]\n"
          ]
        }
      ]
    },
    {
      "cell_type": "markdown",
      "source": [
        "Write a NumPy program to create a vector with values from 0 to 20 and change the sign of the numbers in the range from 9 to 15."
      ],
      "metadata": {
        "id": "tMCPwS3gveWS"
      }
    },
    {
      "cell_type": "code",
      "source": [
        "# 22. Create a vector with values from 0 to 20 and change the sign of the numbers in the range from 9 to 15:\n",
        "vector = np.arange(21)\n",
        "vector[9:16] *= -1\n",
        "print(vector)"
      ],
      "metadata": {
        "colab": {
          "base_uri": "https://localhost:8080/"
        },
        "id": "TfHewZPBwZeq",
        "outputId": "657ba79c-0fc1-4ca8-f12c-f8532d103e5d"
      },
      "execution_count": 108,
      "outputs": [
        {
          "output_type": "stream",
          "name": "stdout",
          "text": [
            "[  0   1   2   3   4   5   6   7   8  -9 -10 -11 -12 -13 -14 -15  16  17\n",
            "  18  19  20]\n"
          ]
        }
      ]
    },
    {
      "cell_type": "markdown",
      "source": [
        "Write a NumPy program to create a vector of length 5 filled with arbitrary integers from 0 to 10."
      ],
      "metadata": {
        "id": "A6QQFnnbvgVy"
      }
    },
    {
      "cell_type": "code",
      "source": [
        "# 23. Create a vector of length 5 filled with arbitrary integers from 0 to 10:\n",
        "vector = np.random.randint(0, 11, size=5)\n",
        "print(vector)"
      ],
      "metadata": {
        "colab": {
          "base_uri": "https://localhost:8080/"
        },
        "id": "PZTFNlsFwZ8E",
        "outputId": "5abca77c-3c3c-4b46-ab9e-ef985825e974"
      },
      "execution_count": 109,
      "outputs": [
        {
          "output_type": "stream",
          "name": "stdout",
          "text": [
            "[9 2 5 9 8]\n"
          ]
        }
      ]
    },
    {
      "cell_type": "markdown",
      "source": [
        "Write a NumPy program to multiply the values of two given vectors."
      ],
      "metadata": {
        "id": "pN8zgJHQviey"
      }
    },
    {
      "cell_type": "code",
      "source": [
        "# 24. Multiply the values of two given vectors:\n",
        "vector1 = np.array([1, 2, 3])\n",
        "vector2 = np.array([4, 5, 6])\n",
        "result = vector1 * vector2\n",
        "print(result)"
      ],
      "metadata": {
        "colab": {
          "base_uri": "https://localhost:8080/"
        },
        "id": "PC1MLNrtwafG",
        "outputId": "5168d684-487d-45b4-b851-26130787010c"
      },
      "execution_count": 110,
      "outputs": [
        {
          "output_type": "stream",
          "name": "stdout",
          "text": [
            "[ 4 10 18]\n"
          ]
        }
      ]
    },
    {
      "cell_type": "markdown",
      "source": [
        "Write a NumPy program to create a 3x4 matrix filled with values from 10 to 21."
      ],
      "metadata": {
        "id": "srPX2v8uvk19"
      }
    },
    {
      "cell_type": "code",
      "source": [
        "# 25. Create a 3x4 matrix filled with values from 10 to 21:\n",
        "matrix = np.arange(10, 22).reshape(3, 4)\n",
        "print(matrix)"
      ],
      "metadata": {
        "colab": {
          "base_uri": "https://localhost:8080/"
        },
        "id": "DLaD97_Ywa_e",
        "outputId": "fe349a39-de2c-4537-c463-7bc0f6552014"
      },
      "execution_count": 111,
      "outputs": [
        {
          "output_type": "stream",
          "name": "stdout",
          "text": [
            "[[10 11 12 13]\n",
            " [14 15 16 17]\n",
            " [18 19 20 21]]\n"
          ]
        }
      ]
    },
    {
      "cell_type": "markdown",
      "source": [
        "Write a NumPy program to find the number of rows and columns of a given matrix."
      ],
      "metadata": {
        "id": "7JoG9j-ovnOy"
      }
    },
    {
      "cell_type": "code",
      "source": [
        "# 26. Find the number of rows and columns of a given matrix:\n",
        "matrix = np.array([[1, 2, 3], [4, 5, 6]])\n",
        "rows, cols = matrix.shape\n",
        "print(\"Number of rows:\", rows)\n",
        "print(\"Number of columns:\", cols)"
      ],
      "metadata": {
        "colab": {
          "base_uri": "https://localhost:8080/"
        },
        "id": "e41n0DaMwbez",
        "outputId": "4941b3f2-dd8b-4ec5-a270-0c36b1c0852b"
      },
      "execution_count": 112,
      "outputs": [
        {
          "output_type": "stream",
          "name": "stdout",
          "text": [
            "Number of rows: 2\n",
            "Number of columns: 3\n"
          ]
        }
      ]
    },
    {
      "cell_type": "markdown",
      "source": [
        "Write a NumPy program to create a 3x3 identity matrix, i.e. diagonal elements are 1, the rest are 0."
      ],
      "metadata": {
        "id": "bC7Xl0nbvqhK"
      }
    },
    {
      "cell_type": "code",
      "source": [
        "# 27. Create a 3x3 identity matrix:\n",
        "identity_matrix = np.identity(3)\n",
        "print(identity_matrix)"
      ],
      "metadata": {
        "colab": {
          "base_uri": "https://localhost:8080/"
        },
        "id": "C2EzdLnQwcBc",
        "outputId": "ceb9e64d-16e3-41f2-a00b-bad619abc6b5"
      },
      "execution_count": 113,
      "outputs": [
        {
          "output_type": "stream",
          "name": "stdout",
          "text": [
            "[[1. 0. 0.]\n",
            " [0. 1. 0.]\n",
            " [0. 0. 1.]]\n"
          ]
        }
      ]
    },
    {
      "cell_type": "markdown",
      "source": [
        "Write a NumPy program to create a 10x10 matrix, in which the elements on the borders will be equal to 1, and inside 0."
      ],
      "metadata": {
        "id": "tY824Hqcvtly"
      }
    },
    {
      "cell_type": "code",
      "source": [
        "# 28. Create a 10x10 matrix, in which the elements on the borders will be equal to 1, and inside 0:\n",
        "matrix = np.ones((10, 10))\n",
        "matrix[1:-1, 1:-1] = 0\n",
        "print(matrix)"
      ],
      "metadata": {
        "colab": {
          "base_uri": "https://localhost:8080/"
        },
        "id": "nf0aoB49wcZ0",
        "outputId": "7e79dd0e-d5e6-4422-a7fa-81a12cfc96a9"
      },
      "execution_count": 114,
      "outputs": [
        {
          "output_type": "stream",
          "name": "stdout",
          "text": [
            "[[1. 1. 1. 1. 1. 1. 1. 1. 1. 1.]\n",
            " [1. 0. 0. 0. 0. 0. 0. 0. 0. 1.]\n",
            " [1. 0. 0. 0. 0. 0. 0. 0. 0. 1.]\n",
            " [1. 0. 0. 0. 0. 0. 0. 0. 0. 1.]\n",
            " [1. 0. 0. 0. 0. 0. 0. 0. 0. 1.]\n",
            " [1. 0. 0. 0. 0. 0. 0. 0. 0. 1.]\n",
            " [1. 0. 0. 0. 0. 0. 0. 0. 0. 1.]\n",
            " [1. 0. 0. 0. 0. 0. 0. 0. 0. 1.]\n",
            " [1. 0. 0. 0. 0. 0. 0. 0. 0. 1.]\n",
            " [1. 1. 1. 1. 1. 1. 1. 1. 1. 1.]]\n"
          ]
        }
      ]
    },
    {
      "cell_type": "markdown",
      "source": [
        "Write a NumPy program to create a 5x5 zero matrix with elements on the main diagonal equal to 1, 2, 3, 4, 5."
      ],
      "metadata": {
        "id": "mL_tNOFfvuVS"
      }
    },
    {
      "cell_type": "code",
      "source": [
        "# 29. Create a 5x5 zero matrix with elements on the main diagonal equal to 1, 2, 3, 4, 5:\n",
        "matrix = np.diag([1, 2, 3, 4, 5])\n",
        "print(matrix)"
      ],
      "metadata": {
        "colab": {
          "base_uri": "https://localhost:8080/"
        },
        "id": "VmUGVZW9wc3U",
        "outputId": "1a3af8ba-b43b-4a3b-b3f7-a834082ef4fc"
      },
      "execution_count": 115,
      "outputs": [
        {
          "output_type": "stream",
          "name": "stdout",
          "text": [
            "[[1 0 0 0 0]\n",
            " [0 2 0 0 0]\n",
            " [0 0 3 0 0]\n",
            " [0 0 0 4 0]\n",
            " [0 0 0 0 5]]\n"
          ]
        }
      ]
    },
    {
      "cell_type": "markdown",
      "source": [
        "Write a NumPy program to create an 4x4 matrix in which 0 and 1 are staggered, with zeros on the main diagonal."
      ],
      "metadata": {
        "id": "3wI7YsB6vwvK"
      }
    },
    {
      "cell_type": "code",
      "source": [
        "# 30. Create an 4x4 matrix in which 0 and 1 are staggered, with zeros on the main diagonal:\n",
        "matrix = np.zeros((4, 4))\n",
        "matrix[::2, 1::2] = 1\n",
        "matrix[1::2, ::2] = 1\n",
        "print(matrix)"
      ],
      "metadata": {
        "colab": {
          "base_uri": "https://localhost:8080/"
        },
        "id": "vpcFCWdewdQr",
        "outputId": "74775764-056d-4ca4-a115-dd8237108527"
      },
      "execution_count": 116,
      "outputs": [
        {
          "output_type": "stream",
          "name": "stdout",
          "text": [
            "[[0. 1. 0. 1.]\n",
            " [1. 0. 1. 0.]\n",
            " [0. 1. 0. 1.]\n",
            " [1. 0. 1. 0.]]\n"
          ]
        }
      ]
    },
    {
      "cell_type": "markdown",
      "source": [
        "Write a NumPy program to create a 3x3x3 array filled with arbitrary values."
      ],
      "metadata": {
        "id": "EHEp2Y31vy-a"
      }
    },
    {
      "cell_type": "code",
      "source": [
        "# 31. Create a 3x3x3 array filled with arbitrary values:\n",
        "array = np.random.random((3, 3, 3))\n",
        "print(array)"
      ],
      "metadata": {
        "colab": {
          "base_uri": "https://localhost:8080/"
        },
        "id": "FbmkW4TPwd30",
        "outputId": "c385f68b-5852-4556-dddd-a241048eee92"
      },
      "execution_count": 117,
      "outputs": [
        {
          "output_type": "stream",
          "name": "stdout",
          "text": [
            "[[[0.58990046 0.18786989 0.60070353]\n",
            "  [0.05343743 0.37020328 0.67396942]\n",
            "  [0.11918461 0.38403131 0.5760611 ]]\n",
            "\n",
            " [[0.4512353  0.80912139 0.85766987]\n",
            "  [0.44086673 0.92609338 0.33794037]\n",
            "  [0.61081306 0.16201073 0.33690648]]\n",
            "\n",
            " [[0.38687413 0.33925468 0.49207038]\n",
            "  [0.65580622 0.16274479 0.74127485]\n",
            "  [0.85255509 0.53252803 0.88174765]]]\n"
          ]
        }
      ]
    },
    {
      "cell_type": "markdown",
      "source": [
        "Write a NumPy program to compute sum of all elements, sum of each column and sum of each row of an given array."
      ],
      "metadata": {
        "id": "Dqr35SoJv1sq"
      }
    },
    {
      "cell_type": "code",
      "source": [
        "# 32. Compute sum of all elements, sum of each column and sum of each row of a given array:\n",
        "arr = np.array([[1, 2, 3], [4, 5, 6], [7, 8, 9]])\n",
        "print(\"Sum of all elements:\", np.sum(arr))\n",
        "print(\"Sum of each column:\", np.sum(arr, axis=0))\n",
        "print(\"Sum of each row:\", np.sum(arr, axis=1))"
      ],
      "metadata": {
        "colab": {
          "base_uri": "https://localhost:8080/"
        },
        "id": "K5gLdMmSweXM",
        "outputId": "58538694-6847-428d-932b-54aa8e70824f"
      },
      "execution_count": 118,
      "outputs": [
        {
          "output_type": "stream",
          "name": "stdout",
          "text": [
            "Sum of all elements: 45\n",
            "Sum of each column: [12 15 18]\n",
            "Sum of each row: [ 6 15 24]\n"
          ]
        }
      ]
    },
    {
      "cell_type": "markdown",
      "source": [
        "Write a NumPy program to compute the inner product of two given vectors.\n"
      ],
      "metadata": {
        "id": "Vg9nF8Lav38K"
      }
    },
    {
      "cell_type": "code",
      "source": [
        "# 33. Compute the inner product of two given vectors:\n",
        "vector1 = np.array([1, 2, 3])\n",
        "vector2 = np.array([4, 5, 6])\n",
        "inner_product = np.inner(vector1, vector2)\n",
        "print(\"Inner product of two vectors:\", inner_product)\n"
      ],
      "metadata": {
        "colab": {
          "base_uri": "https://localhost:8080/"
        },
        "id": "9QaT2ho2wfAc",
        "outputId": "594c3fc4-dc60-4289-a88e-2c262cba25e9"
      },
      "execution_count": 119,
      "outputs": [
        {
          "output_type": "stream",
          "name": "stdout",
          "text": [
            "Inner product of two vectors: 32\n"
          ]
        }
      ]
    },
    {
      "cell_type": "markdown",
      "source": [
        "Write a NumPy program to add a vector to each row of a given matrix."
      ],
      "metadata": {
        "id": "3OPdE6Hbv6Va"
      }
    },
    {
      "cell_type": "code",
      "source": [
        "# 34. Add a vector to each row of a given matrix:\n",
        "matrix = np.array([[1, 2, 3], [4, 5, 6]])\n",
        "vector = np.array([7, 8, 9])\n",
        "result = matrix + vector\n",
        "print(\"Resultant matrix:\")\n",
        "print(result)"
      ],
      "metadata": {
        "colab": {
          "base_uri": "https://localhost:8080/"
        },
        "id": "25d4KfEWwfjE",
        "outputId": "bd356ddc-050b-4a00-e201-15bd763661dd"
      },
      "execution_count": 120,
      "outputs": [
        {
          "output_type": "stream",
          "name": "stdout",
          "text": [
            "Resultant matrix:\n",
            "[[ 8 10 12]\n",
            " [11 13 15]]\n"
          ]
        }
      ]
    },
    {
      "cell_type": "markdown",
      "source": [
        "Write a NumPy program to save a given array to a binary file ."
      ],
      "metadata": {
        "id": "-0JXedxfv8S6"
      }
    },
    {
      "cell_type": "code",
      "source": [
        "# 35. Save a given array to a binary file:\n",
        "arr = np.array([1, 2, 3, 4, 5])\n",
        "np.save(\"array_file.npy\", arr)"
      ],
      "metadata": {
        "id": "OMI6m-QHwgCL"
      },
      "execution_count": 121,
      "outputs": []
    },
    {
      "cell_type": "markdown",
      "source": [
        "Write a NumPy program to save two given arrays into a single file in compressed format (.npz format) and load it."
      ],
      "metadata": {
        "id": "XrjXOsWtv-tc"
      }
    },
    {
      "cell_type": "code",
      "source": [
        "# 36. Save two given arrays into a single file in compressed format (.npz format) and load it:\n",
        "arr1 = np.array([1, 2, 3])\n",
        "arr2 = np.array([4, 5, 6])\n",
        "np.savez_compressed(\"two_arrays.npz\", arr1=arr1, arr2=arr2)\n",
        "\n",
        "loaded_data = np.load(\"two_arrays.npz\")\n",
        "print(\"Loaded arr1:\", loaded_data['arr1'])\n",
        "print(\"Loaded arr2:\", loaded_data['arr2'])"
      ],
      "metadata": {
        "colab": {
          "base_uri": "https://localhost:8080/"
        },
        "id": "R_Um5z1ywgds",
        "outputId": "6495416a-f1a0-403b-cd7f-25d8a7d9a269"
      },
      "execution_count": 122,
      "outputs": [
        {
          "output_type": "stream",
          "name": "stdout",
          "text": [
            "Loaded arr1: [1 2 3]\n",
            "Loaded arr2: [4 5 6]\n"
          ]
        }
      ]
    },
    {
      "cell_type": "markdown",
      "source": [
        "Write a NumPy program to save a given array to a text file and load it."
      ],
      "metadata": {
        "id": "0CUL3Fq6wAlC"
      }
    },
    {
      "cell_type": "code",
      "source": [
        "# 37. Save a given array to a text file and load it:\n",
        "arr = np.array([[1, 2, 3], [4, 5, 6]])\n",
        "np.savetxt(\"array.txt\", arr)\n",
        "\n",
        "loaded_arr = np.loadtxt(\"array.txt\")\n",
        "print(\"Loaded array from text file:\")\n",
        "print(loaded_arr)"
      ],
      "metadata": {
        "colab": {
          "base_uri": "https://localhost:8080/"
        },
        "id": "y1FO2OdRwhC8",
        "outputId": "286817bf-99e9-47da-efbe-0e9f93d3d4c9"
      },
      "execution_count": 123,
      "outputs": [
        {
          "output_type": "stream",
          "name": "stdout",
          "text": [
            "Loaded array from text file:\n",
            "[[1. 2. 3.]\n",
            " [4. 5. 6.]]\n"
          ]
        }
      ]
    },
    {
      "cell_type": "markdown",
      "source": [
        "Write a NumPy program to convert a given array into bytes, and load it as array.\n"
      ],
      "metadata": {
        "id": "bxcc-h-mwCbK"
      }
    },
    {
      "cell_type": "code",
      "source": [
        "# 38. Convert a given array into bytes, and load it as an array:\n",
        "arr = np.array([1, 2, 3, 4, 5])\n",
        "arr_bytes = arr.tobytes()\n",
        "\n",
        "loaded_arr = np.frombuffer(arr_bytes, dtype=arr.dtype)\n",
        "print(\"Loaded array from bytes:\", loaded_arr)"
      ],
      "metadata": {
        "colab": {
          "base_uri": "https://localhost:8080/"
        },
        "id": "b4rauMNvwhul",
        "outputId": "18083401-71fe-4d6b-b0e8-5da82d09164d"
      },
      "execution_count": 124,
      "outputs": [
        {
          "output_type": "stream",
          "name": "stdout",
          "text": [
            "Loaded array from bytes: [1 2 3 4 5]\n"
          ]
        }
      ]
    },
    {
      "cell_type": "markdown",
      "source": [
        "Write a NumPy program to convert a given array into a list and then convert it into a list again."
      ],
      "metadata": {
        "id": "zx34WxQWwE67"
      }
    },
    {
      "cell_type": "code",
      "source": [
        "# 39. Convert a given array into a list and then convert it into a list again:\n",
        "arr = np.array([1, 2, 3, 4, 5])\n",
        "list_from_array = arr.tolist()\n",
        "array_from_list = np.array(list_from_array)\n",
        "print(\"Array converted to list and back to array:\", array_from_list)"
      ],
      "metadata": {
        "colab": {
          "base_uri": "https://localhost:8080/"
        },
        "id": "U4z3xU_hwiLU",
        "outputId": "6f607f69-0b2c-4181-bdb2-8488bbb1fc2a"
      },
      "execution_count": 125,
      "outputs": [
        {
          "output_type": "stream",
          "name": "stdout",
          "text": [
            "Array converted to list and back to array: [1 2 3 4 5]\n"
          ]
        }
      ]
    },
    {
      "cell_type": "markdown",
      "source": [
        "Write a NumPy program to compute the x and y coordinates for points on a sine curve and plot the points using matplotlib."
      ],
      "metadata": {
        "id": "CUWHcNBJwHI6"
      }
    },
    {
      "cell_type": "code",
      "source": [
        "# 40. Compute the x and y coordinates for points on a sine curve and plot the points using matplotlib:\n",
        "import matplotlib.pyplot as plt\n",
        "\n",
        "x = np.arange(0, 3 * np.pi, 0.1)\n",
        "y = np.sin(x)\n",
        "plt.plot(x, y)\n",
        "plt.xlabel('x')\n",
        "plt.ylabel('y')\n",
        "plt.title('Sine Curve')\n",
        "plt.show()"
      ],
      "metadata": {
        "colab": {
          "base_uri": "https://localhost:8080/",
          "height": 472
        },
        "id": "DOWhzP32wit0",
        "outputId": "7b867edc-958f-406b-accf-2367f643272b"
      },
      "execution_count": 126,
      "outputs": [
        {
          "output_type": "display_data",
          "data": {
            "text/plain": [
              "<Figure size 640x480 with 1 Axes>"
            ],
            "image/png": "[encoded data removed]"
          },
          "metadata": {}
        }
      ]
    },
    {
      "cell_type": "markdown",
      "source": [
        "Write a NumPy program to convert numpy dtypes to native python types."
      ],
      "metadata": {
        "id": "IQg83W3awI6T"
      }
    },
    {
      "cell_type": "code",
      "source": [
        "# 41. Convert numpy dtypes to native python types:\n",
        "arr = np.array([1, 2, 3])\n",
        "native_types = arr.tolist()\n",
        "print(\"Native Python types:\", native_types)"
      ],
      "metadata": {
        "colab": {
          "base_uri": "https://localhost:8080/"
        },
        "id": "alfHUreewjHD",
        "outputId": "a7a435b8-e5d9-45c7-e038-325c37bf5881"
      },
      "execution_count": 127,
      "outputs": [
        {
          "output_type": "stream",
          "name": "stdout",
          "text": [
            "Native Python types: [1, 2, 3]\n"
          ]
        }
      ]
    },
    {
      "cell_type": "code",
      "source": [],
      "metadata": {
        "id": "Ph011eKLYQ4B"
      },
      "execution_count": 127,
      "outputs": []
    }
  ]
}